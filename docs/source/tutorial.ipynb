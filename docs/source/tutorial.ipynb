{
 "cells": [
  {
   "cell_type": "markdown",
   "metadata": {},
   "source": [
    "# `cmbpix` tutorial"
   ]
  },
  {
   "cell_type": "code",
   "execution_count": 1,
   "metadata": {},
   "outputs": [],
   "source": [
    "import numpy as np\n",
    "import healpy as hp\n",
    "import matplotlib.pyplot as plt\n",
    "from cmbpix import *"
   ]
  },
  {
   "cell_type": "markdown",
   "metadata": {},
   "source": [
    "## `HEALPix` pixel manipulation"
   ]
  },
  {
   "cell_type": "markdown",
   "metadata": {},
   "source": [
    "`HEALPix` maps are divided into 12 equal-area patches at base level. Higher resolution maps can be derived by successively dividing every patch into 4 repeatedly. Maps are stored in 1d arrays, and are ordered such that each index corresponds to a unique pixel. There are two standard `HEALPix` ordering schemes, but the default is usually the `RING` ordering.\n",
    "\n",
    "The patch at the center of a map of ${\\rm NSIDE} = 1$ (the base resolution) is at index 4 in the `RING` ordering."
   ]
  },
  {
   "cell_type": "code",
   "execution_count": 2,
   "metadata": {},
   "outputs": [
    {
     "data": {
      "image/png": "[encoded data removed]",
      "text/plain": [
       "<Figure size 612x388.8 with 1 Axes>"
      ]
     },
     "metadata": {
      "needs_background": "light"
     },
     "output_type": "display_data"
    }
   ],
   "source": [
    "nside = 1\n",
    "map1 = np.arange(hp.nside2npix(nside)) # Illustrate pixel borders\n",
    "map1[4] += 10 # Highlight pixel index 4\n",
    "hp.mollview(map1, title='', cbar=False)\n",
    "plt.show()"
   ]
  },
  {
   "cell_type": "markdown",
   "metadata": {},
   "source": [
    "There is no built-in `HEALPix` API to retrieve the higher-resolution sub-pixels within a larger patch.\n",
    "\n",
    "The `patches()` function takes a set of indices for a given ${\\rm NSIDE}$, and returns a set of all higher-resolution\n",
    "subpixels contained in those patches. Here, we highlight all 16 subpixels at resolution ${\\rm NSIDE} = 4$ for pixel 4 at ${\\rm NSIDE} = 1$."
   ]
  },
  {
   "cell_type": "code",
   "execution_count": 3,
   "metadata": {},
   "outputs": [
    {
     "data": {
      "image/png": "[encoded data removed]",
      "text/plain": [
       "<Figure size 612x388.8 with 1 Axes>"
      ]
     },
     "metadata": {
      "needs_background": "light"
     },
     "output_type": "display_data"
    }
   ],
   "source": [
    "map2 = np.zeros(hp.nside2npix(4)) # Blank map\n",
    "subpix = patches(ind=4, nsideIN=1, nsideOUT=4)\n",
    "i = 5\n",
    "for s in subpix: # Highlight subpixels\n",
    "    map2[s] += i\n",
    "    i += 1\n",
    "hp.mollview(map2, title='', cbar=False)\n",
    "plt.show()"
   ]
  },
  {
   "cell_type": "markdown",
   "metadata": {},
   "source": [
    "## Pixel-space CMB lensing estimator"
   ]
  },
  {
   "cell_type": "markdown",
   "metadata": {},
   "source": [
    "To be added"
   ]
  },
  {
   "cell_type": "code",
   "execution_count": null,
   "metadata": {},
   "outputs": [],
   "source": []
  }
 ],
 "metadata": {
  "kernelspec": {
   "display_name": "Python 3",
   "language": "python",
   "name": "python3"
  },
  "language_info": {
   "codemirror_mode": {
    "name": "ipython",
    "version": 3
   },
   "file_extension": ".py",
   "mimetype": "text/x-python",
   "name": "python",
   "nbconvert_exporter": "python",
   "pygments_lexer": "ipython3",
   "version": "3.7.3"
  }
 },
 "nbformat": 4,
 "nbformat_minor": 4
}
