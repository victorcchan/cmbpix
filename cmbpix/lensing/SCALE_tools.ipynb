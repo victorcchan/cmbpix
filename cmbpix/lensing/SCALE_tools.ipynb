{
 "cells": [
  {
   "cell_type": "code",
   "execution_count": 1,
   "metadata": {},
   "outputs": [],
   "source": [
    "#import symlens as s\n",
    "#from pixell import enmap, utils as putils, powspec\n",
    "#import os,sys\n",
    "#from scipy.interpolate import interp1d\n",
    "import numpy as np\n",
    "#import pytest\n",
    "import matplotlib.pyplot as plt\n",
    "import camb\n",
    "from multiprocessing import Pool\n",
    "from functools import partial\n",
    "from tqdm import tqdm\n",
    "\n"
   ]
  },
  {
   "cell_type": "code",
   "execution_count": 2,
   "metadata": {},
   "outputs": [],
   "source": [
    "import matplotlib\n",
    "matplotlib.rc('text', usetex=True)\n",
    "matplotlib.rc('font', family='serif')"
   ]
  },
  {
   "cell_type": "code",
   "execution_count": 3,
   "metadata": {},
   "outputs": [
    {
     "name": "stderr",
     "output_type": "stream",
     "text": [
      "/users/jrmeyers/.conda/envs/idp_cobaya/lib/python3.7/site-packages/ipykernel_launcher.py:13: RuntimeWarning: invalid value encountered in true_divide\n",
      "  del sys.path[0]\n",
      "/users/jrmeyers/.conda/envs/idp_cobaya/lib/python3.7/site-packages/ipykernel_launcher.py:15: RuntimeWarning: invalid value encountered in true_divide\n",
      "  from ipykernel import kernelapp as app\n",
      "/users/jrmeyers/.conda/envs/idp_cobaya/lib/python3.7/site-packages/ipykernel_launcher.py:17: RuntimeWarning: invalid value encountered in true_divide\n"
     ]
    }
   ],
   "source": [
    "#Set up a new set of parameters for CAMB\n",
    "pars = camb.CAMBparams()\n",
    "#This function sets up CosmoMC-like settings, with one massive neutrino and helium set using BBN consistency\n",
    "pars.set_cosmology(H0=67.5, ombh2=0.022, omch2=0.122, mnu=0.06, omk=0, tau=0.06)\n",
    "pars.InitPower.set_params(As=2e-9, ns=0.965, r=0)\n",
    "pars.set_for_lmax(12000, lens_potential_accuracy=2);\n",
    "results = camb.get_results(pars)\n",
    "powers =results.get_cmb_power_spectra(pars, CMB_unit='muK')\n",
    "\n",
    "ls = np.arange(powers['unlensed_scalar'].shape[0])\n",
    "## CAMB outputs l(l+1)/(2pi) * C_l by default, need to rescale\n",
    "ell_fac = ls*(ls+1.)/(2*np.pi)\n",
    "ctt_unlensed = (powers['unlensed_scalar'][:,0]/ell_fac)\n",
    "## CAMB outputs l(l+1)/(2pi) * C_l^{dd} by default, need to rescale to C_l^{phiphi}\n",
    "ctt_lensed = (powers['total'][:,0]/ell_fac)\n",
    "ell_fac_phi = (ls*(ls+1.)*ls*(ls+1.))/(2*np.pi)\n",
    "cphiphi = (powers['lens_potential'][:,0]/ell_fac_phi)\n",
    "\n"
   ]
  },
  {
   "cell_type": "code",
   "execution_count": 4,
   "metadata": {},
   "outputs": [],
   "source": [
    "# Extend spectra to higher ell\n",
    "nPad = 20000\n",
    "ctt_unlensed = np.pad(ctt_unlensed,(0,nPad), 'constant', constant_values = 0.)\n",
    "cphiphi = np.pad(cphiphi,(0,nPad), 'constant', constant_values = 0.)\n",
    "ctt_lensed = np.pad(ctt_lensed,(0,nPad), 'constant', constant_values = 0.)\n",
    "ls = np.arange(ctt_unlensed.shape[0])\n",
    "\n",
    "# Noise spectrum CMB-S4\n",
    "Delta_T = 1.  # In muK-arcmin\n",
    "theta_fwhm = 1.   # in arcmin\n",
    "ntt_CMBS4 = (Delta_T*np.pi/180./60.)**2. * np.exp((theta_fwhm*np.pi/180./60.)**2.*ls**2./ (8.*np.log(2))) \n",
    "\n",
    "# Noise spectrum\n",
    "Delta_T = 27.  # In muK-arcmin\n",
    "theta_fwhm = 7.   # in arcmin\n",
    "ntt_planck = (Delta_T*np.pi/180./60.)**2. * np.exp((theta_fwhm*np.pi/180./60.)**2.*ls**2./ (8.*np.log(2))) \n",
    "\n",
    "ctt_total_CMBS4 = ctt_lensed + ntt_CMBS4\n",
    "ctt_total_planck = ctt_lensed + ntt_planck\n",
    "\n",
    "ctt_unlensed[0] = 0.\n",
    "ctt_total_CMBS4[0] = 1.e10\n",
    "ctt_total_planck[0] = 1.e10\n",
    "cphiphi[0]=0.\n",
    "ctt_lensed[0] = 0."
   ]
  },
  {
   "cell_type": "code",
   "execution_count": 5,
   "metadata": {},
   "outputs": [],
   "source": [
    "%load_ext cython"
   ]
  },
  {
   "cell_type": "code",
   "execution_count": 6,
   "metadata": {},
   "outputs": [],
   "source": [
    "%%cython --compile-args=-fopenmp --link-args=-fopenmp --force\n",
    "\n",
    "cimport cython\n",
    "from cython.parallel import prange\n",
    "\n",
    "@cython.boundscheck(False)\n",
    "@cython.wraparound(False)\n",
    "@cython.cdivision(True)\n",
    "def Psi_and_A_cy(int L, double[:] ClTTunlensed, double[:] ClTTtotal, double[:] Clphiphi, \\\n",
    "                 int l1min, int l1max, int l2min, int l2max, int dl1, int dl2):\n",
    "    \n",
    "    cdef int l1x\n",
    "    cdef int l1y\n",
    "    cdef int l2x\n",
    "    cdef int l2y\n",
    "    cdef int nl1\n",
    "    cdef int l1max_round\n",
    "    nl1 = l1max/dl1\n",
    "    l1max_round = nl1*dl1\n",
    "    cdef int nl2\n",
    "    cdef int l2max_round\n",
    "    nl2 = l2max/dl2\n",
    "    l2max_round = nl2*dl2\n",
    "    #print(lmax_round)\n",
    "    \n",
    "    cdef int l1dotl1minusL\n",
    "    cdef int l2dotl2minusl1\n",
    "    cdef int Lminusl2dotl1minusl2\n",
    "    cdef int l2dotl2minusL\n",
    "    \n",
    "    cdef int modl1\n",
    "    cdef int modLminusl1\n",
    "    cdef int modl2\n",
    "    cdef int modLminusl2\n",
    "    cdef int modl1minusl2\n",
    "    \n",
    "    cdef double integrand = 0.\n",
    "    cdef double integral = 0.\n",
    "    cdef double AL = 0.\n",
    "    \n",
    "    #for l1x from -lmax <= l1x < lmax by dl:\n",
    "    for l1x in prange(-l1max_round, l1max_round+1, dl1, nogil = True):\n",
    "        for l1y from -l1max_round <= l1y < l1max_round+1 by dl1:\n",
    "            modl1 = <int> ((l1x*l1x+l1y*l1y)**(0.5))\n",
    "            modLminusl1 = <int> (((L-l1x)*(L-l1x) + l1y*l1y)**(0.5))\n",
    "            if (modl1 < l1min or modl1 > l1max):\n",
    "                integral += 0.\n",
    "            elif (modLminusl1 < l1min or modLminusl1 > l1max):\n",
    "                integral += 0.\n",
    "            else:\n",
    "                l1dotl1minusL = l1x*(l1x-L) + l1y*(l1y)\n",
    "                for l2x from -l2max_round <= l2x < l2max_round+1 by dl2:\n",
    "                    for l2y from -l2max_round <= l2y < l2max_round+1 by dl2:\n",
    "                        modl2 = <int> ((l2x*l2x+l2y*l2y)**(0.5))\n",
    "                        modLminusl2 = <int> (((L-l2x)*(L-l2x) + l2y*l2y)**(0.5))\n",
    "                        if (modl2 < l2min or modl2 > l2max):\n",
    "                            integral += 0.\n",
    "                        elif (modLminusl2 < l2min or modLminusl2 > l2max):\n",
    "                            integral += 0.\n",
    "                        else:\n",
    "                            l2dotl2minusl1 = l2x*(l2x-l1x) + l2y*(l2y-l1y)\n",
    "                            Lminusl2dotl1minusl2 = (L-l2x)*(l1x-l2x) + (-l2y)*(l1y-l2y)\n",
    "                            l2dotl2minusL = l2x*(l2x-L) + l2y*(l2y)\n",
    "                            modl1minusl2 = <int> (((l1x-l2x)*(l1x-l2x) + (l1y-l2y)*(l1y-l2y))**(0.5))\n",
    "\n",
    "                            integrand = 2. \\\n",
    "                                * 1./(ClTTtotal[modl1] * ClTTtotal[modLminusl1]) \\\n",
    "                                * (ClTTunlensed[modl2]*ClTTunlensed[modl2]/ClTTtotal[modl2]) \\\n",
    "                                * (ClTTunlensed[modLminusl2]*ClTTunlensed[modLminusl2]/ClTTtotal[modLminusl2]) \\\n",
    "                                * l1dotl1minusL * l2dotl2minusl1 * Lminusl2dotl1minusl2 * l2dotl2minusL\n",
    "                            \n",
    "                            AL += integrand\n",
    "                            integral += integrand*Clphiphi[modl1minusl2]\n",
    "    \n",
    "    integral *= dl1*dl1*dl2*dl2\n",
    "    AL *= dl1*dl1*dl2*dl2\n",
    "    AL = 1./AL\n",
    "    # Results need to be scaled by (2\\pi)^4\n",
    "    \n",
    "    return integral, AL\n",
    "                    "
   ]
  },
  {
   "cell_type": "code",
   "execution_count": 7,
   "metadata": {},
   "outputs": [],
   "source": [
    "%%cython --compile-args=-fopenmp --link-args=-fopenmp --force\n",
    "\n",
    "cimport cython\n",
    "from cython.parallel import prange\n",
    "\n",
    "@cython.boundscheck(False)\n",
    "@cython.wraparound(False)\n",
    "@cython.cdivision(True)\n",
    "def dPsi_dCphi_cy(int L, int ell, double[:] ClTTunlensed, double[:] ClTTtotal, int l1min, int l1max, int l2min, int l2max, int dl1, int dl2):\n",
    "    \n",
    "    cdef int l1x\n",
    "    cdef int l1y\n",
    "    cdef int l2x\n",
    "    cdef int l2y\n",
    "    cdef int nl1\n",
    "    cdef int l1max_round\n",
    "    nl1 = l1max/dl1\n",
    "    l1max_round = nl1*dl1\n",
    "    cdef int nl2\n",
    "    cdef int l2max_round\n",
    "    nl2 = l2max/dl2\n",
    "    l2max_round = nl2*dl2\n",
    "    #print(lmax_round)\n",
    "    \n",
    "    cdef int l1dotl1minusL\n",
    "    cdef int l2dotl2minusl1\n",
    "    cdef int Lminusl2dotl1minusl2\n",
    "    cdef int l2dotl2minusL\n",
    "\n",
    "    cdef int radicand\n",
    "    cdef int sqrt_sign\n",
    "    \n",
    "    cdef int modl1\n",
    "    cdef int modLminusl1\n",
    "    cdef int modl2\n",
    "    cdef int modLminusl2\n",
    "    \n",
    "    cdef double integral = 0\n",
    "    \n",
    "    #for l1x from -lmax <= l1x < lmax by dl:\n",
    "    for l1x in prange(-l1max_round, l1max_round+1, dl1, nogil = True):\n",
    "        for l1y from -l1max_round <= l1y < l1max_round+1 by dl1:\n",
    "            modl1 = <int> ((l1x*l1x+l1y*l1y)**(0.5))\n",
    "            modLminusl1 = <int> (((L-l1x)*(L-l1x) + l1y*l1y)**(0.5))\n",
    "            if (modl1 < l1min or modl1 > l1max):\n",
    "                integral += 0.\n",
    "            elif (modLminusl1 < l1min or modLminusl1 > l1max):\n",
    "                integral += 0.\n",
    "            else:\n",
    "                l1dotl1minusL = l1x*(l1x-L) + l1y*(l1y)\n",
    "                for l2x from -l2max_round <= l2x < l2max_round+1 by dl2:\n",
    "                    radicand = ell*ell-(l1x-l2x)*(l1x-l2x)\n",
    "                    if radicand < 0:\n",
    "                        integral += 0.\n",
    "                    else:\n",
    "                        for sqrt_sign from -1 <= sqrt_sign < 2 by 2:\n",
    "                            l2y = <int> (l1y + sqrt_sign*(radicand**(0.5)))\n",
    "                            modl2 = <int> ((l2x*l2x+l2y*l2y)**(0.5))\n",
    "                            modLminusl2 = <int> (((L-l2x)*(L-l2x) + l2y*l2y)**(0.5))\n",
    "                            if (modl2 < l2min or modl2 > l2max):\n",
    "                                integral += 0.\n",
    "                            elif (modLminusl2 < l2min or modLminusl2 > l2max):\n",
    "                                integral += 0.\n",
    "                            else:\n",
    "                                l2dotl2minusl1 = l2x*(l2x-l1x) + l2y*(l2y-l1y)\n",
    "                                Lminusl2dotl1minusl2 = (L-l2x)*(l1x-l2x) + (-l2y)*(l1y-l2y)\n",
    "                                l2dotl2minusL = l2x*(l2x-L) + l2y*(l2y)\n",
    "\n",
    "                                integral += 2. \\\n",
    "                                    * 1./(ClTTtotal[modl1] * ClTTtotal[modLminusl1]) \\\n",
    "                                    * (ClTTunlensed[modl2]*ClTTunlensed[modl2]/ClTTtotal[modl2]) \\\n",
    "                                    * (ClTTunlensed[modLminusl2]*ClTTunlensed[modLminusl2]/ClTTtotal[modLminusl2]) \\\n",
    "                                    * l1dotl1minusL * l2dotl2minusl1 * Lminusl2dotl1minusl2 * l2dotl2minusL\n",
    "    \n",
    "    integral *= dl1*dl1*dl2\n",
    "    # Result needs to be divided by (2\\pi)^4\n",
    "    \n",
    "    return integral\n",
    "                    \n"
   ]
  },
  {
   "cell_type": "code",
   "execution_count": 8,
   "metadata": {},
   "outputs": [
    {
     "name": "stdout",
     "output_type": "stream",
     "text": [
      "CPU times: user 186 ms, sys: 0 ns, total: 186 ms\n",
      "Wall time: 23.9 ms\n"
     ]
    },
    {
     "data": {
      "text/plain": [
       "144827631101718.5"
      ]
     },
     "execution_count": 8,
     "metadata": {},
     "output_type": "execute_result"
    }
   ],
   "source": [
    "%%time\n",
    "\n",
    "###### Testing ########\n",
    "\n",
    "#dPsi_dCphi_cy(int L, int ell, double[:] ClTTunlensed, double[:] ClTTtotal, int l1min, int l1max, int l2min, int l2max, int dl1, int dl2)\n",
    "dPsi_dCphi_cy(50, 6000, ctt_unlensed, ctt_total_planck, 6000, 8000, 30, 3000, 100, 100)/((2.*np.pi)**4)"
   ]
  },
  {
   "cell_type": "code",
   "execution_count": 9,
   "metadata": {},
   "outputs": [
    {
     "name": "stdout",
     "output_type": "stream",
     "text": [
      "CPU times: user 7.57 s, sys: 108 ms, total: 7.67 s\n",
      "Wall time: 1.05 s\n"
     ]
    }
   ],
   "source": [
    "%%time\n",
    "\n",
    "##### Testing ##########\n",
    "\n",
    "#def Psi_and_A_cy(int L, double[:] ClTTunlensed, double[:] ClTTtotal, double[:] Clphiphi, \\\n",
    "#                 int l1min, int l1max, int l2min, int l2max, int dl1, int dl2)\n",
    "\n",
    "Psi, A = Psi_and_A_cy(50, ctt_unlensed, ctt_total_planck, cphiphi, 6000, 8000, 30, 3000, 100, 100)"
   ]
  },
  {
   "cell_type": "code",
   "execution_count": 10,
   "metadata": {},
   "outputs": [
    {
     "name": "stderr",
     "output_type": "stream",
     "text": [
      "100%|██████████| 30/30 [00:07<00:00,  4.10it/s]\n"
     ]
    }
   ],
   "source": [
    "## Setup ell ranges here\n",
    "\n",
    "Lmax = 3000\n",
    "Lmin = 30\n",
    "dL = 100\n",
    "Lv = np.arange(Lmin, Lmax, dL)\n",
    "\n",
    "dell = 100\n",
    "ellmax = 10000\n",
    "ellmin = 3000\n",
    "ellv = np.arange(ellmin, ellmax, dell)\n",
    "\n",
    "AL = np.zeros(np.shape(Lv)[0])\n",
    "Psi = np.zeros(np.shape(Lv)[0])\n",
    "dPsi_dCphi = np.zeros((np.shape(Lv)[0],np.shape(ellv)[0]))\n",
    "\n",
    "l1min = 6000\n",
    "l1max = 6500\n",
    "dl1 = 100\n",
    "l2min = 30\n",
    "l2max = 2000\n",
    "dl2 = 100\n",
    "\n",
    "pbar = tqdm(total=len(Lv))\n",
    "\n",
    "for iL, LL in enumerate(Lv):\n",
    "    Psi[iL], AL[iL] = Psi_and_A_cy(LL, ctt_unlensed, ctt_total_CMBS4, cphiphi, l1min, l1max, l2min, l2max, dl1, dl2)\n",
    "    AL[iL] *= ((2.*np.pi)**4)\n",
    "    Psi[iL] *= AL[iL]/((2.*np.pi)**4)\n",
    "    for iell, ell in enumerate(ellv):\n",
    "        dPsi_dCphi[iL,iell] = dPsi_dCphi_cy(LL, ell, ctt_unlensed, ctt_total_CMBS4, l1min, l1max, l2min, l2max, dl1, dl2) \\\n",
    "                                * AL[iL]/((2.*np.pi)**4)\n",
    "    pbar.update(1)\n",
    "    \n",
    "pbar.close()"
   ]
  },
  {
   "cell_type": "code",
   "execution_count": 11,
   "metadata": {},
   "outputs": [
    {
     "data": {
      "image/png": "[encoded data removed]",
      "text/plain": [
       "<Figure size 432x288 with 2 Axes>"
      ]
     },
     "metadata": {
      "needs_background": "light"
     },
     "output_type": "display_data"
    }
   ],
   "source": [
    "## Plot results here ##\n",
    "\n",
    "dlogPsi_dlogCphi = (dPsi_dCphi*cphiphi[ellv.astype(int)]).T*1./Psi\n",
    "#print(np.sum(dlogPsi_dlogCphi*(ellv[1]-ellv[0]), axis = 0))\n",
    "\n",
    "plt.imshow(dlogPsi_dlogCphi.T, vmin = -0.0006, vmax = 0.0006, extent = (ellmin, ellmax, Lmin, Lmax),\n",
    "           cmap = 'RdBu_r', aspect = 'auto', interpolation = 'gaussian', origin = 'lower')\n",
    "plt.xlabel('$\\ell$')\n",
    "plt.ylabel('$L$')\n",
    "plt.colorbar(label = '$d\\log \\Psi_L / d\\log C_\\ell^{\\phi\\phi}$')\n",
    "plt.title('$\\ell_1^{{min}}={},~\\ell_1^{{max}}={},~\\ell_2^{{min}}={},~\\ell_2^{{max}}={}$'.format(l1min, l1max, l2min, l2max))\n",
    "plt.savefig('./plots/dlogPsi_dlogCphi_l1min_{}_l1max_{}_l2min_{}_l2max_{}_CMBS4.pdf'.format(l1min, l1max, l2min, l2max), bbox_inches = 'tight')\n",
    "plt.show()"
   ]
  },
  {
   "cell_type": "code",
   "execution_count": 12,
   "metadata": {},
   "outputs": [
    {
     "data": {
      "image/png": "[encoded data removed]",
      "text/plain": [
       "<Figure size 432x288 with 1 Axes>"
      ]
     },
     "metadata": {
      "needs_background": "light"
     },
     "output_type": "display_data"
    }
   ],
   "source": [
    "## Plot Psi(L) ##\n",
    "\n",
    "plt.plot(Lv, Psi)\n",
    "plt.xlabel('$L$')\n",
    "plt.ylabel('$\\Psi(L)$')\n",
    "plt.title('$\\ell_1^{{min}}={},~\\ell_1^{{max}}={},~\\ell_2^{{min}}={},~\\ell_2^{{max}}={}$'.format(l1min, l1max, l2min, l2max))\n",
    "plt.savefig('./plots/Psi_l1min_{}_l1max_{}_l2min_{}_l2max_{}_CMBS4.pdf'.format(l1min, l1max, l2min, l2max), bbox_inches = 'tight')\n",
    "plt.show()"
   ]
  },
  {
   "cell_type": "code",
   "execution_count": null,
   "metadata": {},
   "outputs": [],
   "source": [
    "####  Old stuff starts below ####\n",
    "####  Includes older, slower versions of integrals\n",
    "####  Various tests\n",
    "####  N^(1) bias calculations"
   ]
  },
  {
   "cell_type": "code",
   "execution_count": 5,
   "metadata": {},
   "outputs": [],
   "source": [
    "def l2integral(l1xv, l1yv, Lv, l2xv, l2yv, ClTTunlensed, ClTTtotal, Clphiphi = None, l2min = 30, l2max = 3000):\n",
    "    \n",
    "    #Add axes in order to vectorize integral\n",
    "    l1x = np.expand_dims(np.expand_dims(np.expand_dims(l1xv,axis=0),axis=-1),axis=-1)\n",
    "    l1y = np.expand_dims(np.expand_dims(np.expand_dims(l1yv,axis=0),axis=-1),axis=-1)\n",
    "    L = np.expand_dims(np.expand_dims(np.expand_dims(np.expand_dims(Lv,axis=-1),axis=-1),axis=-1),axis=-1)\n",
    "    \n",
    "    ## Testing:\n",
    "    #print(np.shape(l1x))\n",
    "    #print(np.shape(l1y))\n",
    "    #print(np.shape(L))\n",
    "    \n",
    "    l2dotl2minusl1 = l2xv*(l2xv-l1x)+l2yv*(l2yv-l1y)\n",
    "    Lminusl2dotl1minusl2 = (L-l2xv)*(l1x-l2xv) + (-l2yv)*(l1y-l2yv)\n",
    "    l2dotl2minusL = l2xv*(l2xv-L)+l2yv*l2yv\n",
    "    modl2 = np.sqrt(l2xv**2+l2yv**2)\n",
    "    modLminusl2 = np.sqrt((L-l2xv)**2 + l2yv**2)\n",
    "    modl1minusl2 = np.sqrt((l1x-l2xv)**2 + (l1y-l2yv)**2)\n",
    "    \n",
    "    maskl2 = np.ones(np.shape(modl2),dtype = int)\n",
    "    maskl2[np.where(modl2 < l2min)] = 0\n",
    "    maskl2[np.where(modl2 > l2max)] = 0\n",
    "\n",
    "    maskLminusl2 = np.ones(np.shape(modLminusl2),dtype = int)\n",
    "    maskLminusl2[np.where(modLminusl2 < l2min)] = 0\n",
    "    maskLminusl2[np.where(modLminusl2 > l2max)] = 0\n",
    "    \n",
    "    hfilter = maskl2*ClTTunlensed[np.rint(modl2).astype(int)]/ClTTtotal[np.rint(modl2).astype(int)] \\\n",
    "            * maskLminusl2*ClTTunlensed[np.rint(modLminusl2).astype(int)]/ClTTtotal[np.rint(modLminusl2).astype(int)]\n",
    "    \n",
    "    integrand = l2dotl2minusl1*Lminusl2dotl1minusl2*l2dotl2minusL \\\n",
    "                * 2. * hfilter * ClTTunlensed[np.rint(modl2).astype(int)] * ClTTunlensed[np.rint(modLminusl2).astype(int)]\n",
    "    if Clphiphi is not None:\n",
    "        integrand *= Clphiphi[np.rint(modl1minusl2).astype(int)]\n",
    "    \n",
    "    deltal2x = l2xv[0,1]-l2xv[0,0]\n",
    "    deltal2y = l2yv[1,0]-l2yv[0,0]\n",
    "    \n",
    "    integrand*= deltal2x*deltal2y/((2*np.pi)**2)\n",
    "    \n",
    "    ## Testing:\n",
    "    #print(np.shape(integrand))\n",
    "    \n",
    "    return np.sum(integrand, axis=(-2,-1))\n",
    "\n",
    "def l1integral(l1xv, l1yv, Lv, l2xv, l2yv, ClTTunlensed, ClTTtotal,\n",
    "               Clphiphi = None, l1min = 6000, l1max = 8000, l2min = 30, l2max = 3000, \n",
    "               ell = None, dPsi_dCphi = False):\n",
    "\n",
    "    #Add axes in order to vectorize integral\n",
    "    L = np.expand_dims(np.expand_dims(Lv,axis=-1),axis=-1)\n",
    "    \n",
    "    ## Testing:\n",
    "    #print(np.shape(l1x))\n",
    "    #print(np.shape(l1y))\n",
    "    #print(np.shape(L))\n",
    "    \n",
    "    l1dotl1minusL = l1xv*(l1xv-L)+l1yv*l1yv\n",
    "    modl1 = np.sqrt(l1xv**2+l1yv**2)\n",
    "    modLminusl1 = np.sqrt((L-l1xv)**2 + l1yv**2)\n",
    "    \n",
    "    maskl1 = np.ones(np.shape(modl1),dtype = int)\n",
    "    maskl1[np.where(modl1 < l1min)] = 0\n",
    "    maskl1[np.where(modl1 > l1max)] = 0\n",
    "\n",
    "    maskLminusl1 = np.ones(np.shape(modLminusl1),dtype = int)\n",
    "    maskLminusl1[np.where(modLminusl1 < l1min)] = 0\n",
    "    maskLminusl1[np.where(modLminusl1 > l1max)] = 0\n",
    "    \n",
    "    gfilter = maskl1*1./ClTTtotal[np.rint(modl1).astype(int)] \\\n",
    "            * maskLminusl1*1./ClTTtotal[np.rint(modLminusl1).astype(int)]\n",
    "    \n",
    "    integrand = l1dotl1minusL * gfilter \n",
    "    \n",
    "    if dPsi_dCphi:\n",
    "        integrand *= l2integral_dPsi_dCphi(\n",
    "                   l1xv = l1xv, \n",
    "                   l1yv = l1yv, \n",
    "                   Lv = Lv, \n",
    "                   l2xv = l2xv,  \n",
    "                   ClTTunlensed = ClTTunlensed, \n",
    "                   ClTTtotal = ClTTtotal, \n",
    "                   l2min = l2min, \n",
    "                   l2max = l2max,\n",
    "                   ell = ell)\n",
    "    else:\n",
    "        integrand *= l2integral(l1xv = l1xv, \n",
    "                       l1yv = l1yv, \n",
    "                       Lv = Lv, \n",
    "                       l2xv = l2xv, \n",
    "                       l2yv = l2yv, \n",
    "                       ClTTunlensed = ClTTunlensed, \n",
    "                       ClTTtotal = ClTTtotal, \n",
    "                       Clphiphi = Clphiphi, \n",
    "                       l2min = l2min, \n",
    "                       l2max = l2max)\n",
    "   \n",
    "    deltal1x = l1xv[0,1]-l1xv[0,0]\n",
    "    deltal1y = l1yv[1,0]-l1yv[0,0]\n",
    "    \n",
    "    integrand*= deltal1x*deltal1y/((2*np.pi)**2)\n",
    "    \n",
    "    ## Testing:\n",
    "    #print(np.shape(integrand))\n",
    "    \n",
    "    return np.sum(integrand, axis=(-2,-1))\n",
    "\n",
    "def l2integral_dPsi_dCphi(l1xv, l1yv, Lv, l2xv, ClTTunlensed, ClTTtotal, l2min = 30, l2max = 3000, ell = None):\n",
    "    ## Integral used in calculating dPsi_L/dC_\\ell^{phiphi}\n",
    "    ## Useful for mapping response of Psi to small scale lensing modes\n",
    "    ## In this case the lensing power spectrum is replaced with a delta function, which does the l_2y integral\n",
    "    \n",
    "    #Add axes in order to vectorize integral\n",
    "    #l1x = np.expand_dims(np.expand_dims(np.expand_dims(l1xv,axis=0),axis=0),axis=-1)\n",
    "    #l1y = np.expand_dims(np.expand_dims(np.expand_dims(l1yv,axis=0),axis=0),axis=-1)\n",
    "    #L = np.expand_dims(np.expand_dims(np.expand_dims(np.expand_dims(Lv,axis=-1),axis=-1),axis=-1),axis=-1)\n",
    "    l1x = np.expand_dims(np.expand_dims(l1xv,axis=0),axis=-1)\n",
    "    l1y = np.expand_dims(np.expand_dims(l1yv,axis=0),axis=-1)\n",
    "    L = np.expand_dims(np.expand_dims(np.expand_dims(Lv,axis=-1),axis=-1),axis=-1)\n",
    "\n",
    "    ## Testing:\n",
    "    #print(np.shape(l1x))\n",
    "    #print(np.shape(l1y))\n",
    "    #print(np.shape(L))\n",
    "    \n",
    "    integrand = 0\n",
    "    \n",
    "    ## l_2y = l1y \\mp sqrt(ell^2-(l_1x-l_2x)^2)\n",
    "    ## Need to treat minus and plus cases separately and add together\n",
    "    for i_sign, sqrt_sign in enumerate([1., -1.]):\n",
    "        l2y = l1y + sqrt_sign*np.nan_to_num(np.sqrt(ell**2-(l1x-l2xv)**2), nan=1.e10)\n",
    "        \n",
    "        #print(np.sum(l2y))\n",
    "        #stop\n",
    "        \n",
    "        #print(l2y)\n",
    "        # Set parts containing imaginary numbers to very large value so they will be masked out\n",
    "        #l2y[np.iscomplex(l2y)] = 1.e100\n",
    "        #print(np.shape(l2y))\n",
    "\n",
    "        l2dotl2minusl1 = l2xv*(l2xv-l1x)+l2y*(l2y-l1y)\n",
    "        Lminusl2dotl1minusl2 = (L-l2xv)*(l1x-l2xv) + (-l2y)*(l1y-l2y)\n",
    "        l2dotl2minusL = l2xv*(l2xv-L)+l2y*l2y\n",
    "        modl2 = np.sqrt(l2xv**2+l2y**2)\n",
    "        modLminusl2 = np.sqrt((L-l2xv)**2 + l2y**2)\n",
    "        modl1minusl2 = np.sqrt((l1x-l2xv)**2 + (l1y-l2y)**2)\n",
    "        \n",
    "\n",
    "        \n",
    "        #print(np.shape(modl2))\n",
    "        #print(np.shape(modLminusl2))\n",
    "        \n",
    "        maskl2 = np.ones(np.shape(modl2),dtype = int)\n",
    "        maskl2[np.where(modl2 < l2min)] = 0\n",
    "        maskl2[np.where(modl2 > l2max)] = 0\n",
    "        \n",
    "        modl2 *= maskl2\n",
    "\n",
    "        maskLminusl2 = np.ones(np.shape(modLminusl2),dtype = int)\n",
    "        maskLminusl2[np.where(modLminusl2 < l2min)] = 0\n",
    "        maskLminusl2[np.where(modLminusl2 > l2max)] = 0\n",
    "        \n",
    "        modLminusl2 *= maskLminusl2\n",
    "        \n",
    "        #hfilter = maskl2*ClTTunlensed[np.rint(modl2).astype(int)]/ClTTtotal[np.rint(modl2).astype(int)] \\\n",
    "        #        * maskLminusl2*ClTTunlensed[np.rint(modLminusl2).astype(int)]/ClTTtotal[np.rint(modLminusl2).astype(int)]\n",
    "        hfilter = maskl2*ClTTunlensed[np.around(modl2).astype(int)]/ClTTtotal[np.around(modl2).astype(int)] \\\n",
    "                * maskLminusl2*ClTTunlensed[np.around(modLminusl2).astype(int)]/ClTTtotal[np.around(modLminusl2).astype(int)]\n",
    "\n",
    "        integrand += l2dotl2minusl1*Lminusl2dotl1minusl2*l2dotl2minusL \\\n",
    "                    * 2. * hfilter * ClTTunlensed[np.rint(modl2).astype(int)] * ClTTunlensed[np.rint(modLminusl2).astype(int)]\n",
    "\n",
    "    deltal2x = l2xv[0,1]-l2xv[0,0]\n",
    "    integrand *= deltal2x/((2*np.pi)**2)\n",
    "    \n",
    "    ## Testing:\n",
    "    #print(np.shape(integrand))\n",
    "    \n",
    "    return np.sum(integrand, axis=-1)\n",
    "\n",
    "def bias_integral(l1xv, l1yv, Lv, ClTTunlensed, ClTTtotal, g_or_h = 'g', l1min = 30, l1max = 3000):\n",
    "    \n",
    "    L = np.expand_dims(np.expand_dims(Lv,axis=-1),axis=-1)\n",
    "    \n",
    "    l1dotl1minusL = l1xv*(l1xv-L)+l1yv*l1yv\n",
    "    modl1 = np.sqrt(l1xv**2+l1yv**2)\n",
    "    modLminusl1 = np.sqrt((L-l1xv)**2 + l1yv**2)\n",
    "    \n",
    "    maskl1 = np.ones(np.shape(modl1),dtype = int)\n",
    "    maskl1[np.where(modl1 < l1min)] = 0\n",
    "    maskl1[np.where(modl1 > l1max)] = 0\n",
    "\n",
    "    maskLminusl1 = np.ones(np.shape(modLminusl1),dtype = int)\n",
    "    maskLminusl1[np.where(modLminusl1 < l1min)] = 0\n",
    "    maskLminusl1[np.where(modLminusl1 > l1max)] = 0\n",
    "    \n",
    "    gfilter = maskl1*1./ClTTtotal[np.rint(modl1).astype(int)] \\\n",
    "            * maskLminusl1*1./ClTTtotal[np.rint(modLminusl1).astype(int)]\n",
    "    \n",
    "    hfilter = maskl1*ClTTunlensed[np.rint(modl1).astype(int)]/ClTTtotal[np.rint(modl1).astype(int)] \\\n",
    "            * maskLminusl1*ClTTunlensed[np.rint(modLminusl1).astype(int)]/ClTTtotal[np.rint(modLminusl1).astype(int)]\n",
    "    \n",
    "    integrand = l1dotl1minusL*l1dotl1minusL * (ClTTunlensed[np.rint(modl1).astype(int)] + ClTTunlensed[np.rint(modLminusl1).astype(int)])\n",
    "    \n",
    "    if g_or_h == 'g':\n",
    "        integrand *= gfilter\n",
    "    elif g_or_h == 'h':\n",
    "        integrand *= hfilter\n",
    "    else:\n",
    "        print('You need to specify either g or h for the filter')\n",
    "        stop\n",
    "        \n",
    "    deltal1x = l1xv[0,1]-l1xv[0,0]\n",
    "    deltal1y = l1yv[1,0]-l1yv[0,0]\n",
    "    \n",
    "    integrand*= deltal1x*deltal1y/((2*np.pi)**2)\n",
    "    \n",
    "    return np.sum(integrand, axis=(-2,-1))\n",
    "\n",
    "\n",
    "\n",
    "def N0_bias_integral(l1xv, l1yv, Lv, ClTTunlensed, ClTTtotal, l1min = 30, l1max = 8000):\n",
    "    \n",
    "    L = np.expand_dims(np.expand_dims(Lv,axis=-1),axis=-1)\n",
    "    \n",
    "    Ldotl1 = l1xv*L\n",
    "    LdotLminusl1 = L*(L-l1xv)\n",
    "    \n",
    "    modl1 = np.sqrt(l1xv**2+l1yv**2)\n",
    "    modLminusl1 = np.sqrt((L-l1xv)**2 + l1yv**2)\n",
    "    \n",
    "    maskl1 = np.ones(np.shape(modl1),dtype = int)\n",
    "    maskl1[np.where(modl1 < l1min)] = 0\n",
    "    maskl1[np.where(modl1 > l1max)] = 0\n",
    "\n",
    "    maskLminusl1 = np.ones(np.shape(modLminusl1),dtype = int)\n",
    "    maskLminusl1[np.where(modLminusl1 < l1min)] = 0\n",
    "    maskLminusl1[np.where(modLminusl1 > l1max)] = 0\n",
    "    \n",
    "    integrand = maskl1 * maskLminusl1 \\\n",
    "        * ( Ldotl1*ClTTunlensed[np.rint(modl1).astype(int)] + LdotLminusl1*ClTTunlensed[np.rint(modLminusl1).astype(int)] ) \\\n",
    "        * ( Ldotl1*ClTTunlensed[np.rint(modl1).astype(int)] + LdotLminusl1*ClTTunlensed[np.rint(modLminusl1).astype(int)] ) \\\n",
    "        * 1./(2. * ClTTtotal[np.rint(modl1).astype(int)] * ClTTtotal[np.rint(modLminusl1).astype(int)]) \\\n",
    "    \n",
    "    deltal1x = l1xv[0,1]-l1xv[0,0]\n",
    "    deltal1y = l1yv[1,0]-l1yv[0,0]\n",
    "    \n",
    "    integrand*= deltal1x*deltal1y/((2*np.pi)**2)\n",
    "    \n",
    "    return np.sum(integrand, axis=(-2,-1))\n",
    "    "
   ]
  },
  {
   "cell_type": "code",
   "execution_count": 74,
   "metadata": {},
   "outputs": [
    {
     "name": "stderr",
     "output_type": "stream",
     "text": [
      "/users/jrmeyers/.conda/envs/idp_cobaya/lib/python3.7/site-packages/ipykernel_launcher.py:131: RuntimeWarning: invalid value encountered in sqrt\n"
     ]
    },
    {
     "name": "stdout",
     "output_type": "stream",
     "text": [
      "CPU times: user 3h 45min 7s, sys: 24min 14s, total: 4h 9min 22s\n",
      "Wall time: 32min 32s\n"
     ]
    }
   ],
   "source": [
    "\n",
    "\n",
    "%%time\n",
    "\n",
    "## Amplitude of A(L) seems to depend on choice of sampling here\n",
    "## Increase for better precision at cost of speed and memory usage\n",
    "nl1x, nl1y = (200, 200)\n",
    "l1max = 8000\n",
    "l1min = 6000\n",
    "l1x = np.linspace(-l1max, l1max, nl1x)\n",
    "l1y = np.linspace(-l1max, l1max, nl1y)\n",
    "l1xv, l1yv = np.meshgrid(l1x, l1y, sparse=True)  # make sparse output arrays\n",
    "\n",
    "## Turnover of Phi(L) seems to depend on choice of sampling here\n",
    "## Increase for better precision at cost of speed and memory usage\n",
    "nl2x, nl2y = (40, 40)\n",
    "l2max = 3000\n",
    "l2min = 30\n",
    "l2x = np.linspace(-l2max, l2max, nl2x)\n",
    "l2y = np.linspace(-l2max, l2max, nl2y)\n",
    "l2xv, l2yv = np.meshgrid(l2x, l2y, sparse=True)  # make sparse output arrays\n",
    "\n",
    "nL = 40\n",
    "Lmax = 3000\n",
    "Lmin = 30\n",
    "Lv = np.linspace(Lmin, Lmax, nL)\n",
    "\n",
    "nell = 100\n",
    "ellmax = 8000\n",
    "ellmin = 3000\n",
    "ellv = np.linspace(ellmin, ellmax, nell)\n",
    "\n",
    "\n",
    "## Do each L individually to save on memory usage\n",
    "## Loop is a bit slower than vectorized calculation, but memory savings is factor of nL\n",
    "\n",
    "AL = np.zeros(np.shape(Lv)[0])\n",
    "Phi = np.zeros(np.shape(Lv)[0])\n",
    "BL = np.zeros(np.shape(Lv)[0])\n",
    "dPsi_dCphi = np.zeros((np.shape(Lv)[0],np.shape(ellv)[0]))\n",
    "\n",
    "\n",
    "for iL, LL in enumerate(Lv):\n",
    "    AL[iL] = 1./l1integral(l1xv, l1yv, [LL], l2xv, l2yv, \n",
    "                           ctt_unlensed, ctt_total_CMBS4, Clphiphi = None, \n",
    "                           l1min = l1min, l1max = l1max, l2min = l2min, l2max = l2max)\n",
    "    Phi[iL] = l1integral(l1xv, l1yv, [LL], l2xv, l2yv, \n",
    "                         ctt_unlensed, ctt_total_CMBS4, Clphiphi = cphiphi, \n",
    "                         l1min = l1min, l1max = l1max, l2min = l2min, l2max = l2max)*AL[iL]\n",
    "    BL[iL] = bias_integral(l1xv, l1yv, [LL], ctt_unlensed, ctt_total_CMBS4, g_or_h = 'g', l1min = l1min, l1max = l1max) \\\n",
    "            * bias_integral(l2xv, l2yv, [-LL], ctt_unlensed, ctt_total_CMBS4, g_or_h = 'h', l1min = l2min, l1max = l2max) \\\n",
    "            * AL[iL] * cphiphi[np.rint(LL).astype(int)]\n",
    "            # Need -L in one of bias integrals to form C_L^{phiphi}\n",
    "    for iell, ell in enumerate(ellv):\n",
    "        dPsi_dCphi[iL,iell] = l1integral(l1xv, l1yv, [LL], l2xv, l2yv,\n",
    "                             ctt_unlensed, ctt_total_CMBS4, Clphiphi = None, \n",
    "                             l1min = l1min, l1max = l1max, l2min = l2min, l2max = l2max,\n",
    "                             ell = ell, dPsi_dCphi = True)*AL[iL]\n"
   ]
  },
  {
   "cell_type": "code",
   "execution_count": 27,
   "metadata": {},
   "outputs": [],
   "source": [
    "for iL, LL in enumerate(Lv):\n",
    "    #AL[iL] = 1./l1integral(l1xv, l1yv, [LL], l2xv, l2yv, ctt_unlensed, ctt_total, Clphiphi = None, l1min = l1min, l1max = l1max, l2min = l2min, l2max = l2max)\n",
    "    #Phi[iL] = l1integral(l1xv, l1yv, [LL], l2xv, l2yv, ctt_unlensed, ctt_total, Clphiphi = cphiphi, l1min = l1min, l1max = l1max, l2min = l2min, l2max = l2max)*AL[iL]\n",
    "    BL[iL] = bias_integral(l1xv, l1yv, [LL], ctt_unlensed, ctt_total, g_or_h = 'g', l1min = l1min, l1max = l1max) \\\n",
    "            * bias_integral(l2xv, l2yv, [-LL], ctt_unlensed, ctt_total, g_or_h = 'h', l1min = l2min, l1max = l2max) \\\n",
    "            * AL[iL] * cphiphi[np.rint(LL).astype(int)]\n",
    "            # Need -L in one of bias integrals to form C_L^{phiphi}"
   ]
  },
  {
   "cell_type": "code",
   "execution_count": 6,
   "metadata": {},
   "outputs": [
    {
     "data": {
      "image/png": "[encoded data removed]",
      "text/plain": [
       "<Figure size 432x288 with 1 Axes>"
      ]
     },
     "metadata": {
      "needs_background": "light"
     },
     "output_type": "display_data"
    }
   ],
   "source": [
    "plt.semilogy(Lv,AL)\n",
    "plt.ylabel('A(L)')\n",
    "plt.xlabel('L')\n",
    "plt.show()"
   ]
  },
  {
   "cell_type": "code",
   "execution_count": 7,
   "metadata": {},
   "outputs": [
    {
     "data": {
      "image/png": "[encoded data removed]",
      "text/plain": [
       "<Figure size 432x288 with 1 Axes>"
      ]
     },
     "metadata": {
      "needs_background": "light"
     },
     "output_type": "display_data"
    }
   ],
   "source": [
    "plt.semilogy(Lv,Phi)\n",
    "plt.ylabel('Phi(L)')\n",
    "plt.xlabel('L')\n",
    "plt.show()"
   ]
  },
  {
   "cell_type": "code",
   "execution_count": 21,
   "metadata": {},
   "outputs": [
    {
     "data": {
      "image/png": "[encoded data removed]",
      "text/plain": [
       "<Figure size 432x288 with 1 Axes>"
      ]
     },
     "metadata": {
      "needs_background": "light"
     },
     "output_type": "display_data"
    }
   ],
   "source": [
    "plt.semilogy(Lv,BL)\n",
    "plt.ylabel('B(L)')\n",
    "plt.xlabel('L')\n",
    "plt.show()"
   ]
  },
  {
   "cell_type": "code",
   "execution_count": 9,
   "metadata": {},
   "outputs": [
    {
     "data": {
      "image/png": "[encoded data removed]",
      "text/plain": [
       "<Figure size 432x288 with 1 Axes>"
      ]
     },
     "metadata": {
      "needs_background": "light"
     },
     "output_type": "display_data"
    }
   ],
   "source": [
    "plt.semilogy(Lv,Phi, label = '$\\Phi$')\n",
    "plt.semilogy(Lv,BL, label = 'Bias')\n",
    "plt.semilogy(Lv,Phi+BL, label = 'Total')\n",
    "plt.xlim(0,3000)\n",
    "plt.ylim(1e-25, 1e-23)\n",
    "plt.ylabel('$\\Phi$(L) and Bias')\n",
    "plt.xlabel('L')\n",
    "plt.legend()\n",
    "plt.show()"
   ]
  },
  {
   "cell_type": "code",
   "execution_count": 84,
   "metadata": {},
   "outputs": [],
   "source": [
    "np.sum((dPsi_dCphi*cphiphi[ellv.astype(int)]).T*1./Phi*(ellv[1]-ellv[0]), axis = 0)\n",
    "np.savetxt('dPsi_dCphi.txt', dPsi_dCphi)\n",
    "np.savetxt('dlogPsi_dlogCphi.txt', (dPsi_dCphi*cphiphi[ellv.astype(int)]).T*1./Phi)\n"
   ]
  },
  {
   "cell_type": "code",
   "execution_count": 81,
   "metadata": {},
   "outputs": [
    {
     "data": {
      "text/plain": [
       "<matplotlib.colorbar.Colorbar at 0x2aaaedd31fd0>"
      ]
     },
     "execution_count": 81,
     "metadata": {},
     "output_type": "execute_result"
    },
    {
     "data": {
      "image/png": "[encoded data removed]",
      "text/plain": [
       "<Figure size 432x288 with 2 Axes>"
      ]
     },
     "metadata": {
      "needs_background": "light"
     },
     "output_type": "display_data"
    }
   ],
   "source": [
    "plt.imshow((dPsi_dCphi*cphiphi[ellv.astype(int)]).T*1./Phi*(ellv[1]-ellv[0]), vmin = -0.01, vmax = 0.01, cmap = 'RdBu_r')\n",
    "plt.colorbar()"
   ]
  },
  {
   "cell_type": "code",
   "execution_count": 10,
   "metadata": {},
   "outputs": [],
   "source": [
    "plt.rc('text', usetex=True)\n",
    "plt.rc('font', family='serif')"
   ]
  },
  {
   "cell_type": "code",
   "execution_count": 12,
   "metadata": {},
   "outputs": [
    {
     "data": {
      "image/png": "[encoded data removed]",
      "text/plain": [
       "<Figure size 432x288 with 2 Axes>"
      ]
     },
     "metadata": {
      "needs_background": "light"
     },
     "output_type": "display_data"
    }
   ],
   "source": [
    "#dlogPsi_dlogCphi = np.loadtxt('dlogPsi_dlogCphi.txt')\n",
    "\n",
    "nL = 40\n",
    "Lmax = 3000\n",
    "Lmin = 30\n",
    "Lv = np.linspace(Lmin, Lmax, nL)\n",
    "\n",
    "nell = 100\n",
    "ellmax = 8000\n",
    "ellmin = 3000\n",
    "ellv = np.linspace(ellmin, ellmax, nell)\n",
    "\n",
    "plt.imshow(dlogPsi_dlogCphi.T, vmin = -0.0003, vmax = 0.0003, extent = (ellmin, ellmax, Lmin, Lmax),\n",
    "           cmap = 'RdBu_r', aspect = 'auto', interpolation = 'gaussian', origin = 'lower')\n",
    "plt.xlabel('$\\ell$')\n",
    "plt.ylabel('$L$')\n",
    "plt.colorbar(label = '$d\\log \\Psi_L / d\\log C_\\ell^{\\phi\\phi}$')\n",
    "plt.savefig('dlogPsi_dlogCphi.pdf', bbox_inches = 'tight')\n",
    "plt.show()"
   ]
  },
  {
   "cell_type": "code",
   "execution_count": null,
   "metadata": {},
   "outputs": [
    {
     "name": "stderr",
     "output_type": "stream",
     "text": [
      "/users/jrmeyers/.conda/envs/idp_cobaya/lib/python3.7/site-packages/ipykernel_launcher.py:131: RuntimeWarning: invalid value encountered in sqrt\n"
     ]
    }
   ],
   "source": [
    "%%time\n",
    "\n",
    "## Amplitude of A(L) seems to depend on choice of sampling here\n",
    "## Increase for better precision at cost of speed and memory usage\n",
    "nl1x, nl1y = (200, 200)\n",
    "l1max = 7000\n",
    "l1min = 6000\n",
    "l1x = np.linspace(-l1max, l1max, nl1x)\n",
    "l1y = np.linspace(-l1max, l1max, nl1y)\n",
    "l1xv, l1yv = np.meshgrid(l1x, l1y, sparse=True)  # make sparse output arrays\n",
    "\n",
    "## Turnover of Phi(L) seems to depend on choice of sampling here\n",
    "## Increase for better precision at cost of speed and memory usage\n",
    "nl2x, nl2y = (40, 40)\n",
    "l2max = 3000\n",
    "l2min = 30\n",
    "l2x = np.linspace(-l2max, l2max, nl2x)\n",
    "l2y = np.linspace(-l2max, l2max, nl2y)\n",
    "l2xv, l2yv = np.meshgrid(l2x, l2y, sparse=True)  # make sparse output arrays\n",
    "\n",
    "nL = 40\n",
    "Lmax = 3000\n",
    "Lmin = 30\n",
    "Lv = np.linspace(Lmin, Lmax, nL)\n",
    "\n",
    "nell = 200\n",
    "ellmax = 10000\n",
    "ellmin = 3000\n",
    "ellv = np.linspace(ellmin, ellmax, nell)\n",
    "\n",
    "\n",
    "## Do each L individually to save on memory usage\n",
    "## Loop is a bit slower than vectorized calculation, but memory savings is factor of nL\n",
    "\n",
    "AL = np.zeros(np.shape(Lv)[0])\n",
    "Phi = np.zeros(np.shape(Lv)[0])\n",
    "BL = np.zeros(np.shape(Lv)[0])\n",
    "dPsi_dCphi = np.zeros((np.shape(Lv)[0],np.shape(ellv)[0]))\n",
    "\n",
    "\n",
    "for iL, LL in enumerate(Lv):\n",
    "    AL[iL] = 1./l1integral(l1xv, l1yv, [LL], l2xv, l2yv, \n",
    "                           ctt_unlensed, ctt_total_CMBS4, Clphiphi = None, \n",
    "                           l1min = l1min, l1max = l1max, l2min = l2min, l2max = l2max)\n",
    "    Phi[iL] = l1integral(l1xv, l1yv, [LL], l2xv, l2yv, \n",
    "                         ctt_unlensed, ctt_total_CMBS4, Clphiphi = cphiphi, \n",
    "                         l1min = l1min, l1max = l1max, l2min = l2min, l2max = l2max)*AL[iL]\n",
    "#     BL[iL] = bias_integral(l1xv, l1yv, [LL], ctt_unlensed, ctt_total_CMBS4, g_or_h = 'g', l1min = l1min, l1max = l1max) \\\n",
    "#             * bias_integral(l2xv, l2yv, [-LL], ctt_unlensed, ctt_total_CMBS4, g_or_h = 'h', l1min = l2min, l1max = l2max) \\\n",
    "#             * AL[iL] * cphiphi[np.rint(LL).astype(int)]\n",
    "#             # Need -L in one of bias integrals to form C_L^{phiphi}\n",
    "    for iell, ell in enumerate(ellv):\n",
    "        dPsi_dCphi[iL,iell] = l1integral(l1xv, l1yv, [LL], l2xv, l2yv,\n",
    "                             ctt_unlensed, ctt_total_CMBS4, Clphiphi = None, \n",
    "                             l1min = l1min, l1max = l1max, l2min = l2min, l2max = l2max,\n",
    "                             ell = ell, dPsi_dCphi = True)*AL[iL]"
   ]
  },
  {
   "cell_type": "code",
   "execution_count": null,
   "metadata": {},
   "outputs": [],
   "source": [
    "dlogPsi_dlogCphi = (dPsi_dCphi*cphiphi[ellv.astype(int)]).T*1./Phi\n",
    "print(np.sum((dPsi_dCphi*cphiphi[ellv.astype(int)]).T*1./Phi*(ellv[1]-ellv[0]), axis = 0))\n",
    "np.savetxt('dPsi_dCphi_6000_7000.txt', dPsi_dCphi)\n",
    "np.savetxt('dlogPsi_dlogCphi_6000_7000.txt', (dPsi_dCphi*cphiphi[ellv.astype(int)]).T*1./Phi)\n"
   ]
  },
  {
   "cell_type": "code",
   "execution_count": null,
   "metadata": {},
   "outputs": [],
   "source": [
    "#dlogPsi_dlogCphi = np.loadtxt('dlogPsi_dlogCphi.txt')\n",
    "\n",
    "nL = 40\n",
    "Lmax = 3000\n",
    "Lmin = 30\n",
    "Lv = np.linspace(Lmin, Lmax, nL)\n",
    "\n",
    "nell = 100\n",
    "ellmax = 10000\n",
    "ellmin = 3000\n",
    "ellv = np.linspace(ellmin, ellmax, nell)\n",
    "\n",
    "plt.imshow(dlogPsi_dlogCphi.T, vmin = -0.0006, vmax = 0.0006, extent = (ellmin, ellmax, Lmin, Lmax),\n",
    "           cmap = 'RdBu_r', aspect = 'auto', interpolation = 'gaussian', origin = 'lower')\n",
    "plt.xlabel('$\\ell$')\n",
    "plt.ylabel('$L$')\n",
    "plt.colorbar(label = '$d\\log \\Psi_L / d\\log C_\\ell^{\\phi\\phi}$')\n",
    "plt.savefig('dlogPsi_dlogCphi_6000_7000.pdf', bbox_inches = 'tight')\n",
    "plt.show()"
   ]
  },
  {
   "cell_type": "code",
   "execution_count": 15,
   "metadata": {},
   "outputs": [
    {
     "data": {
      "text/plain": [
       "[<matplotlib.lines.Line2D at 0x2aaaedad1590>]"
      ]
     },
     "execution_count": 15,
     "metadata": {},
     "output_type": "execute_result"
    },
    {
     "data": {
      "image/png": "[encoded data removed]",
      "text/plain": [
       "<Figure size 432x288 with 1 Axes>"
      ]
     },
     "metadata": {
      "needs_background": "light"
     },
     "output_type": "display_data"
    }
   ],
   "source": [
    "plt.plot(Lv, AL)"
   ]
  },
  {
   "cell_type": "code",
   "execution_count": null,
   "metadata": {},
   "outputs": [],
   "source": [
    "def N1_bias_integral_Kesden(l1xv, l1yv, Lv, l2xv, l2yv, ClTTunlensed, ClTTtotal, Clphiphi = None, l1min = 30, l1max = 8000, l2min = 30, l2max = 8000):\n",
    "    \n",
    "    #Add axes in order to vectorize integral\n",
    "    l1x = np.expand_dims(np.expand_dims(np.expand_dims(l1xv,axis=0),axis=-1),axis=-1)\n",
    "    l1y = np.expand_dims(np.expand_dims(np.expand_dims(l1yv,axis=0),axis=-1),axis=-1)\n",
    "    L = np.expand_dims(np.expand_dims(np.expand_dims(np.expand_dims(Lv,axis=-1),axis=-1),axis=-1),axis=-1)\n",
    "    \n",
    "    ## Testing:\n",
    "    #print(np.shape(l1x))\n",
    "    #print(np.shape(l1y))\n",
    "    #print(np.shape(L))\n",
    "    \n",
    "    Ldotl2 = l2xv*L\n",
    "    LdotLminusl2 = L*(L-l2xv)\n",
    "    Ldotl1 = l1x*L\n",
    "    LdotLminusl1 = L*(L-l1x)\n",
    "\n",
    "    \n",
    "    l2dotl2minusl1 = l2xv*(l2xv-l1x)+l2yv*(l2yv-l1y)\n",
    "    Lminusl2dotl1minusl2 = (L-l2xv)*(l1x-l2xv) + (-l2yv)*(l1y-l2yv)\n",
    "    Lminusl1dotl1minusl2 = (L-l1x)*(l1x-l2xv) + (-l1y)*(l1y-l2yv)\n",
    "    Lminusl1minusl2dotl1 = (L-l1x-l2xv)*l1x + (-l1y-l2yv)*l1y\n",
    "    Lminusl1minusl2dotLminusl2 = (L-l1x-l2xv)*(L-l2xv) + (-l1y-l2yv)*(-l2yv)\n",
    "    l1minusLplusl2dotLminusl1 = (l1x-L+l2xv)*(L-l1x) + (l1y+l2yv)*(-l1y)\n",
    "    l1minusLplusl2dotl2 = (l1x-L+l2xv)*l2xv + (l1y+l2yv)*l2yv\n",
    "    #l2dotl2minusL = l2xv*(l2xv-L)+l2yv*l2yv\n",
    "    modl2 = np.sqrt(l2xv**2+l2yv**2)\n",
    "    modLminusl2 = np.sqrt((L-l2xv)**2 + l2yv**2)\n",
    "    modl1minusl2 = np.sqrt((l1x-l2xv)**2 + (l1y-l2yv)**2)\n",
    "    \n",
    "    maskl2 = np.ones(np.shape(modl2),dtype = int)\n",
    "    maskl2[np.where(modl2 < l2min)] = 0\n",
    "    maskl2[np.where(modl2 > l2max)] = 0\n",
    "\n",
    "    maskLminusl2 = np.ones(np.shape(modLminusl2),dtype = int)\n",
    "    maskLminusl2[np.where(modLminusl2 < l2min)] = 0\n",
    "    maskLminusl2[np.where(modLminusl2 > l2max)] = 0\n",
    "    \n",
    "    l1dotl1minusL = l1xv*(l1xv-L)+l1yv*l1yv\n",
    "    l1dotl2minusl1 = l1x*(l2xv-l1x)+l1y*(l2yv-l1y)\n",
    "    modl1 = np.sqrt(l1x**2+l1y**2)\n",
    "    modLminusl1 = np.sqrt((L-l1x)**2 + l1y**2)\n",
    "    \n",
    "    maskl1 = np.ones(np.shape(modl1),dtype = int)\n",
    "    maskl1[np.where(modl1 < l1min)] = 0\n",
    "    maskl1[np.where(modl1 > l1max)] = 0\n",
    "\n",
    "    maskLminusl1 = np.ones(np.shape(modLminusl1),dtype = int)\n",
    "    maskLminusl1[np.where(modLminusl1 < l1min)] = 0\n",
    "    maskLminusl1[np.where(modLminusl1 > l1max)] = 0\n",
    "    \n",
    "    modl1minusLplusl2 = np.sqrt((l1x-L+l2xv)**2 + (l1y+l2yv)**2)\n",
    "    \n",
    "    # F(l1,L-l1) * F(l2,L-L2) * [C^phi(l1-l2) * f(-l1,l2) * f(l1-L,L-l2) + C^phi(l1-L+l2) * f(-l1,L-l2) * f(l1-L,l2)]\n",
    "    #maskl1 * maskLminusl1 * maskl2 * maskLminusl2 \\\n",
    "    integrand = 1. \\\n",
    "        * ( Ldotl1*ClTTunlensed[np.rint(modl1).astype(int)] + LdotLminusl1*ClTTunlensed[np.rint(modLminusl1).astype(int)] ) \\\n",
    "        * 1./(2. * ClTTtotal[np.rint(modl1).astype(int)] * ClTTtotal[np.rint(modLminusl1).astype(int)]) \\\n",
    "        * ( Ldotl2*ClTTunlensed[np.rint(modl2).astype(int)] + LdotLminusl2*ClTTunlensed[np.rint(modLminusl2).astype(int)] ) \\\n",
    "        * 1./(2. * ClTTtotal[np.rint(modl2).astype(int)] * ClTTtotal[np.rint(modLminusl2).astype(int)]) \\\n",
    "        * ( Clphiphi[np.rint(modl1minusl2).astype(int)] \\\n",
    "        * ( -l1dotl2minusl1*ClTTunlensed[np.rint(modl1).astype(int)] + l2dotl2minusl1*ClTTunlensed[np.rint(modl2).astype(int)] ) \\\n",
    "        * ( -Lminusl1dotl1minusl2*ClTTunlensed[np.rint(modLminusl1).astype(int)] + Lminusl2dotl1minusl2*ClTTunlensed[np.rint(modLminusl2).astype(int)] ) \\\n",
    "        + Clphiphi[np.rint(modl1minusLplusl2).astype(int)] \\\n",
    "        * ( -Lminusl1minusl2dotl1*ClTTunlensed[np.rint(modl1).astype(int)] + Lminusl1minusl2dotLminusl2*ClTTunlensed[np.rint(modLminusl2).astype(int)] ) \\\n",
    "        * ( -l1minusLplusl2dotLminusl1*ClTTunlensed[np.rint(modLminusl1).astype(int)] + l1minusLplusl2dotl2*ClTTunlensed[np.rint(modl2).astype(int)] ) )\n",
    "    \n",
    "    #print(integrand)\n",
    "    \n",
    "    deltal2x = l2xv[0,1]-l2xv[0,0]\n",
    "    deltal2y = l2yv[1,0]-l2yv[0,0]\n",
    "    deltal1x = l1xv[0,1]-l1xv[0,0]\n",
    "    deltal1y = l1yv[1,0]-l1yv[0,0]\n",
    "    \n",
    "    integrand*= deltal1x*deltal1y/((2*np.pi)**2) * deltal2x*deltal2y/((2*np.pi)**2)\n",
    "    \n",
    "    #integrand = np.nan_to_num(integrand)\n",
    "    \n",
    "    #print(integrand)\n",
    "    \n",
    "    ## Testing:\n",
    "    #print(np.shape(integrand))\n",
    "    \n",
    "    return np.sum(integrand, axis=(-4,-3,-2,-1))\n",
    "\n",
    "def N1_bias_integral_Hanson(l1xv, l1yv, Lv, l2xv, l2yv, ClTTunlensed, ClTTtotal, Clphiphi = None, l1min = 30, l1max = 8000, l2min = 30, l2max = 8000):\n",
    "    \n",
    "    #Add axes in order to vectorize integral\n",
    "    l1x = np.expand_dims(np.expand_dims(np.expand_dims(l1xv,axis=0),axis=-1),axis=-1)\n",
    "    l1y = np.expand_dims(np.expand_dims(np.expand_dims(l1yv,axis=0),axis=-1),axis=-1)\n",
    "    L = np.expand_dims(np.expand_dims(np.expand_dims(np.expand_dims(Lv,axis=-1),axis=-1),axis=-1),axis=-1)\n",
    "    \n",
    "    ## Testing:\n",
    "    #print(np.shape(l1x))\n",
    "    #print(np.shape(l1y))\n",
    "    #print(np.shape(L))\n",
    "    \n",
    "    Ldotl2 = l2xv*L\n",
    "    LdotLminusl2 = L*(L-l2xv)\n",
    "    Ldotl1 = l1x*L\n",
    "    LdotLminusl1 = L*(L-l1x)\n",
    "\n",
    "    \n",
    "    #l2dotl2minusl1 = l2xv*(l2xv-l1x)+l2yv*(l2yv-l1y)\n",
    "    #Lminusl2dotl1minusl2 = (L-l2xv)*(l1x-l2xv) + (-l2yv)*(l1y-l2yv)\n",
    "    #l2dotl2minusL = l2xv*(l2xv-L)+l2yv*l2yv\n",
    "    modl2 = np.sqrt(l2xv**2+l2yv**2)\n",
    "    modLminusl2 = np.sqrt((L-l2xv)**2 + l2yv**2)\n",
    "    modl1minusl2 = np.sqrt((l1x-l2xv)**2 + (l1y-l2yv)**2)\n",
    "    \n",
    "    maskl2 = np.ones(np.shape(modl2),dtype = int)\n",
    "    maskl2[np.where(modl2 < l2min)] = 0\n",
    "    maskl2[np.where(modl2 > l2max)] = 0\n",
    "\n",
    "    maskLminusl2 = np.ones(np.shape(modLminusl2),dtype = int)\n",
    "    maskLminusl2[np.where(modLminusl2 < l2min)] = 0\n",
    "    maskLminusl2[np.where(modLminusl2 > l2max)] = 0\n",
    "    \n",
    "    #l1dotl1minusL = l1xv*(l1xv-L)+l1yv*l1yv\n",
    "    modl1 = np.sqrt(l1x**2+l1y**2)\n",
    "    modLminusl1 = np.sqrt((L-l1x)**2 + l1y**2)\n",
    "    \n",
    "    maskl1 = np.ones(np.shape(modl1),dtype = int)\n",
    "    maskl1[np.where(modl1 < l1min)] = 0\n",
    "    maskl1[np.where(modl1 > l1max)] = 0\n",
    "\n",
    "    maskLminusl1 = np.ones(np.shape(modLminusl1),dtype = int)\n",
    "    maskLminusl1[np.where(modLminusl1 < l1min)] = 0\n",
    "    maskLminusl1[np.where(modLminusl1 > l1max)] = 0\n",
    "    \n",
    "    modl1minusLplusl2 = np.sqrt((l1x-L+l2xv)**2 + (l1y+l2yv)**2)\n",
    "    l1dotl1minusl2 = l1x*(l1x-l2xv)+l1y*(l1y-l2yv)\n",
    "    Lminusl1dotl1minusl2 = (L-l1x)*(l1x-l2xv) + (-l1y)*(l1y-l2yv)\n",
    "    l1dotl1minusLplusl2 = l1x*(l1x-L+l2xv) + l1y*(l1y+l2yv)\n",
    "    l2dotl1minusLplusl2 = l2xv*(l1x-L+l2xv) + l2yv*(l1y+l2yv)\n",
    "    \n",
    "    # F(l1,L-l1) * F(l2,L-L2) * [C^phi(l1-l2) * C^T(l1) * C^T(L-l1) * l1.(l1-l2) * (L-l1).(l1-l2) + C^phi(l1-L+l2) * C^T(l1) * C^T(l2) * l1.(l1-L+l2) * (-l2).(l1-L+l2)]\n",
    "    #maskl1 * maskLminusl1 * maskl2 * maskLminusl2 \\\n",
    "    integrand = -4. * maskl1 * maskLminusl1 * maskl2 * maskLminusl2 \\\n",
    "        * ( Ldotl1*ClTTunlensed[np.rint(modl1).astype(int)] + LdotLminusl1*ClTTunlensed[np.rint(modLminusl1).astype(int)] ) \\\n",
    "        * 1./(2. * ClTTtotal[np.rint(modl1).astype(int)] * ClTTtotal[np.rint(modLminusl1).astype(int)]) \\\n",
    "        * ( Ldotl2*ClTTunlensed[np.rint(modl2).astype(int)] + LdotLminusl2*ClTTunlensed[np.rint(modLminusl2).astype(int)] ) \\\n",
    "        * 1./(2. * ClTTtotal[np.rint(modl2).astype(int)] * ClTTtotal[np.rint(modLminusl2).astype(int)]) \\\n",
    "        * ( Clphiphi[np.rint(modl1minusl2).astype(int)] * ClTTunlensed[np.rint(modl1).astype(int)] * ClTTunlensed[np.rint(modLminusl1).astype(int)] \\\n",
    "        * l1dotl1minusl2 * Lminusl1dotl1minusl2\n",
    "        + Clphiphi[np.rint(modl1minusLplusl2).astype(int)] * ClTTunlensed[np.rint(modl1).astype(int)] * ClTTunlensed[np.rint(modl2).astype(int)] \\\n",
    "        * l1dotl1minusLplusl2 * l2dotl1minusLplusl2 * (-1.) )\n",
    "    \n",
    "    #print(integrand)\n",
    "    \n",
    "    deltal2x = l2xv[0,1]-l2xv[0,0]\n",
    "    deltal2y = l2yv[1,0]-l2yv[0,0]\n",
    "    deltal1x = l1xv[0,1]-l1xv[0,0]\n",
    "    deltal1y = l1yv[1,0]-l1yv[0,0]\n",
    "    \n",
    "    integrand*= deltal1x*deltal1y/((2*np.pi)**2) * deltal2x*deltal2y/((2*np.pi)**2)\n",
    "    \n",
    "    #integrand = np.nan_to_num(integrand)\n",
    "    \n",
    "    #print(integrand)\n",
    "    \n",
    "    ## Testing:\n",
    "    #print(np.shape(integrand))\n",
    "    \n",
    "    return np.sum(integrand, axis=(-4,-3,-2,-1))"
   ]
  },
  {
   "cell_type": "code",
   "execution_count": null,
   "metadata": {},
   "outputs": [],
   "source": []
  },
  {
   "cell_type": "code",
   "execution_count": 5,
   "metadata": {},
   "outputs": [],
   "source": [
    "%load_ext cython"
   ]
  },
  {
   "cell_type": "code",
   "execution_count": 6,
   "metadata": {},
   "outputs": [],
   "source": [
    "%%cython --compile-args=-fopenmp --link-args=-fopenmp --force\n",
    "\n",
    "cimport cython\n",
    "from cython.parallel import prange\n",
    "\n",
    "@cython.boundscheck(False)\n",
    "@cython.wraparound(False)\n",
    "@cython.cdivision(True)\n",
    "def N1_bias_integral_cy_Hanson(int L, double[:] ClTTunlensed, double[:] ClTTtotal, double[:] Clphiphi, int lmin, int lmax, int dl):\n",
    "    \n",
    "    cdef int l1x\n",
    "    cdef int l1y\n",
    "    cdef int l2x\n",
    "    cdef int l2y\n",
    "    cdef int nL\n",
    "    cdef int lmax_round\n",
    "    nL = lmax/dl\n",
    "    lmax_round = nL*dl\n",
    "    print(lmax_round)\n",
    "    \n",
    "    cdef int Ldotl2\n",
    "    cdef int LdotLminusl2\n",
    "    cdef int Ldotl1\n",
    "    cdef int LdotLminusl1\n",
    "    \n",
    "    cdef int l1dotl1minusl2\n",
    "    cdef int Lminusl1dotl1minusl2\n",
    "    cdef int l1dotl1minusLplusl2\n",
    "    cdef int l2dotl1minusLplusl2\n",
    "    \n",
    "    cdef int modl1\n",
    "    cdef int modLminusl1\n",
    "    cdef int modl2\n",
    "    cdef int modLminusl2\n",
    "    cdef int modl1minusl2\n",
    "    cdef int modl1minusLplusl2\n",
    "    \n",
    "    cdef double integral = 0\n",
    "    \n",
    "    #for l1x from -lmax <= l1x < lmax by dl:\n",
    "    for l1x in prange(-lmax_round, lmax_round, dl, nogil = True):\n",
    "        Ldotl1 = l1x*L\n",
    "        LdotLminusl1 = L*(L-l1x)\n",
    "        for l1y from -lmax_round <= l1y < lmax_round by dl:\n",
    "            modl1 = <int> ((l1x*l1x+l1y*l1y)**(0.5))\n",
    "            modLminusl1 = <int> (((L-l1x)*(L-l1x) + l1y*l1y)**(0.5))\n",
    "            for l2x from -lmax_round <= l2x < lmax_round by dl:\n",
    "                Ldotl2 = l2x*L\n",
    "                LdotLminusl2 = L*(L-l2x)\n",
    "                for l2y from -lmax_round <= l2y < lmax_round by dl:\n",
    "                    modl2 = <int> ((l2x*l2x+l2y*l2y)**(0.5))\n",
    "                    modLminusl2 = <int> (((L-l2x)*(L-l2x) + l2y*l2y)**(0.5))\n",
    "                    modl1minusLplusl2 = <int> (((l1x-L+l2x)*(l1x-L+l2x) + (l1y+l2y)*(l1y+l2y))**(0.5))\n",
    "                    modl1minusl2 = <int> (((l1x-l2x)*(l1x-l2x) + (l1y-l2y)*(l1y-l2y))**(0.5))\n",
    "                    l1dotl1minusl2 = l1x*(l1x-l2x)+l1y*(l1y-l2y)\n",
    "                    Lminusl1dotl1minusl2 = (L-l1x)*(l1x-l2x) + (-l1y)*(l1y-l2y)\n",
    "                    l1dotl1minusLplusl2 = l1x*(l1x-L+l2x) + l1y*(l1y+l2y)\n",
    "                    l2dotl1minusLplusl2 = l2x*(l1x-L+l2x) + l2y*(l1y+l2y)\n",
    "                    \n",
    "                    if (modl1 < lmin or modl1 > lmax):\n",
    "                        integral += 0.\n",
    "                    elif (modl2 < lmin or modl2 > lmax):\n",
    "                        integral += 0.\n",
    "                    elif (modLminusl1 < lmin or modLminusl1 > lmax):\n",
    "                        integral += 0.\n",
    "                    elif (modLminusl2 < lmin or modLminusl2 > lmax):\n",
    "                        integral += 0.\n",
    "                    else:\n",
    "                        integral += -4.  \\\n",
    "                            * ( Ldotl1*ClTTunlensed[modl1] + LdotLminusl1*ClTTunlensed[modLminusl1] ) \\\n",
    "                            * 1./(2. * ClTTtotal[modl1] * ClTTtotal[modLminusl1]) \\\n",
    "                            * ( Ldotl2*ClTTunlensed[modl2] + LdotLminusl2*ClTTunlensed[modLminusl2] ) \\\n",
    "                            * 1./(2. * ClTTtotal[modl2] * ClTTtotal[modLminusl2]) \\\n",
    "                            * ( Clphiphi[modl1minusl2] * ClTTunlensed[modl1] * ClTTunlensed[modLminusl1] \\\n",
    "                            * l1dotl1minusl2 * Lminusl1dotl1minusl2\n",
    "                            + Clphiphi[modl1minusLplusl2] * ClTTunlensed[modl1] * ClTTunlensed[modl2] \\\n",
    "                            * l1dotl1minusLplusl2 * l2dotl1minusLplusl2 * (-1.) )\n",
    "    \n",
    "    integral *= dl*dl*dl*dl\n",
    "    \n",
    "    return integral\n",
    "                    \n"
   ]
  },
  {
   "cell_type": "code",
   "execution_count": 7,
   "metadata": {},
   "outputs": [],
   "source": [
    "%%cython --compile-args=-fopenmp --link-args=-fopenmp --force\n",
    "\n",
    "cimport cython\n",
    "from cython.parallel import prange\n",
    "\n",
    "@cython.boundscheck(False)\n",
    "@cython.wraparound(False)\n",
    "@cython.cdivision(True)\n",
    "def N1_bias_integral_cy_Kesden(int LL, double[:] ClTTunlensed, double[:] ClTTtotal, double[:] Clphiphi, int lmin, int lmax, int dl):\n",
    "    \n",
    "    cdef int l1x\n",
    "    cdef int l1y\n",
    "    cdef int l2x\n",
    "    cdef int l2y\n",
    "    cdef int L = LL\n",
    "    \n",
    "    cdef int Ldotl2\n",
    "    cdef int LdotLminusl2\n",
    "    cdef int Ldotl1\n",
    "    cdef int LdotLminusl1\n",
    "    \n",
    "#     cdef int l1dotl1minusl2\n",
    "#     cdef int Lminusl1dotl1minusl2\n",
    "#     cdef int l1dotl1minusLplusl2\n",
    "#     cdef int l2dotl1minusLplusl2\n",
    "\n",
    "    cdef int l1dotl2minusl1\n",
    "    cdef int l2dotl2minusl1\n",
    "    cdef int Lminusl1dotl1minusl2\n",
    "    cdef int Lminusl2dotl1minusl2\n",
    "    cdef int Lminusl1minusl2dotl1\n",
    "    cdef int Lminusl1minusl2dotLminusl2\n",
    "    cdef int l1minusLplusl2dotLminusl1\n",
    "    cdef int l1minusLplusl2dotl2\n",
    "    \n",
    "    cdef int modl1\n",
    "    cdef int modLminusl1\n",
    "    cdef int modl2\n",
    "    cdef int modLminusl2\n",
    "    cdef int modl1minusl2\n",
    "    cdef int modl1minusLplusl2\n",
    "    \n",
    "    cdef double integral = 0\n",
    "    \n",
    "    #for l1x from -lmax <= l1x < lmax by dl:\n",
    "    for l1x in prange(-lmax, lmax, dl, nogil = True):\n",
    "        Ldotl1 = l1x*L\n",
    "        LdotLminusl1 = L*(L-l1x)\n",
    "        for l1y from -lmax <= l1y < lmax by dl:\n",
    "            modl1 = <int> ((l1x*l1x+l1y*l1y)**(0.5))\n",
    "            modLminusl1 = <int> (((L-l1x)*(L-l1x) + l1y*l1y)**(0.5))\n",
    "            for l2x from -lmax <= l2x < lmax by dl:\n",
    "                Ldotl2 = l2x*L\n",
    "                LdotLminusl2 = L*(L-l2x)\n",
    "                for l2y from -lmax <= l2y < lmax by dl:\n",
    "                    modl2 = <int> ((l2x*l2x+l2y*l2y)**(0.5))\n",
    "                    modLminusl2 = <int> (((L-l2x)*(L-l2x) + l2y*l2y)**(0.5))\n",
    "                    modl1minusLplusl2 = <int> (((l1x-L+l2x)*(l1x-L+l2x) + (l1y+l2y)*(l1y+l2y))**(0.5))\n",
    "                    modl1minusl2 = <int> (((l1x-l2x)*(l1x-l2x) + (l1y-l2y)*(l1y-l2y))**(0.5))\n",
    "                    #l1dotl1minusl2 = l1x*(l1x-l2x)+l1y*(l1y-l2y)\n",
    "                    #Lminusl1dotl1minusl2 = (L-l1x)*(l1x-l2x) + (-l1y)*(l1y-l2y)\n",
    "                    #l1dotl1minusLplusl2 = l1x*(l1x-L+l2x) + l1y*(l1y+l2y)\n",
    "                    #l2dotl1minusLplusl2 = l2x*(l1x-L+l2x) + l2y*(l1y+l2y)\n",
    "                    \n",
    "                    l1dotl2minusl1 = l1x*(l1x-l2x)+l1y*(l1y-l2y)\n",
    "                    l2dotl2minusl1 = l2x*(l2x-l1x)+l2y*(l2y-l1y)\n",
    "                    Lminusl1dotl1minusl2 = (L-l1x)*(l1x-l2x) + (-l1y)*(l1y-l2y)\n",
    "                    Lminusl2dotl1minusl2 = (L-l2x)*(l1x-l2x) + (-l2y)*(l1y-l2y)\n",
    "                    Lminusl1minusl2dotl1 = (L-l1x-l2x)*l1x + (-l1y-l2y)*l1y\n",
    "                    Lminusl1minusl2dotLminusl2 = (L-l1x-l2x)*(L-l2x) + (-l1y-l2y)*(-l2y)\n",
    "                    l1minusLplusl2dotLminusl1 = (l1x-L+l2x)*(L-l1x) + (l1y+l2y)*(-l1y)\n",
    "                    l1minusLplusl2dotl2 = (l1x-L+l2x)*l2x + (l1y+l2y)*l2y\n",
    "                    \n",
    "                    if (modl1 < lmin or modl1 > lmax):\n",
    "                        integral += 0.\n",
    "                    elif (modl2 < lmin or modl2 > lmax):\n",
    "                        integral += 0.\n",
    "                    elif (modLminusl1 < lmin or modLminusl1 > lmax):\n",
    "                        integral += 0.\n",
    "                    elif (modLminusl2 < lmin or modLminusl2 > lmax):\n",
    "                        integral += 0.\n",
    "                    else:\n",
    "                        integral += 1. \\\n",
    "                            * ( Ldotl1*ClTTunlensed[modl1] + LdotLminusl1*ClTTunlensed[modLminusl1] ) \\\n",
    "                            * 1./(2. * ClTTtotal[modl1] * ClTTtotal[modLminusl1]) \\\n",
    "                            * ( Ldotl2*ClTTunlensed[modl2] + LdotLminusl2*ClTTunlensed[modLminusl2] ) \\\n",
    "                            * 1./(2. * ClTTtotal[modl2] * ClTTtotal[modLminusl2]) \\\n",
    "                            * ( Clphiphi[modl1minusl2] \\\n",
    "                            * ( -l1dotl2minusl1*ClTTunlensed[modl1] + l2dotl2minusl1*ClTTunlensed[modl2] ) \\\n",
    "                            * ( -Lminusl1dotl1minusl2*ClTTunlensed[modLminusl1] + Lminusl2dotl1minusl2*ClTTunlensed[modLminusl2] ) \\\n",
    "                            + Clphiphi[modl1minusLplusl2] \\\n",
    "                            * ( -Lminusl1minusl2dotl1*ClTTunlensed[modl1] + Lminusl1minusl2dotLminusl2*ClTTunlensed[modLminusl2] ) \\\n",
    "                            * ( -l1minusLplusl2dotLminusl1*ClTTunlensed[modLminusl1] + l1minusLplusl2dotl2*ClTTunlensed[modl2] ) )\n",
    "    \n",
    "    integral *= dl*dl*dl*dl\n",
    "    \n",
    "    return integral\n",
    "                    \n"
   ]
  },
  {
   "cell_type": "code",
   "execution_count": 32,
   "metadata": {},
   "outputs": [
    {
     "name": "stdout",
     "output_type": "stream",
     "text": [
      "3000\n",
      "CPU times: user 1min, sys: 140 ms, total: 1min\n",
      "Wall time: 3.99 s\n"
     ]
    },
    {
     "data": {
      "text/plain": [
       "53963920529.466576"
      ]
     },
     "execution_count": 32,
     "metadata": {},
     "output_type": "execute_result"
    }
   ],
   "source": [
    "%%time\n",
    "\n",
    "N1_bias_integral_cy_Hanson(50, ctt_unlensed, ctt_total_planck, cphiphi, 30, 3000, 50)/((2.*np.pi)**4)"
   ]
  },
  {
   "cell_type": "code",
   "execution_count": 33,
   "metadata": {},
   "outputs": [
    {
     "name": "stdout",
     "output_type": "stream",
     "text": [
      "CPU times: user 1min 1s, sys: 194 ms, total: 1min 1s\n",
      "Wall time: 4.07 s\n"
     ]
    },
    {
     "data": {
      "text/plain": [
       "53963920529.149445"
      ]
     },
     "execution_count": 33,
     "metadata": {},
     "output_type": "execute_result"
    }
   ],
   "source": [
    "%%time\n",
    "\n",
    "2*N1_bias_integral_cy_Kesden(50, ctt_unlensed, ctt_total_planck, cphiphi, 30, 3000, 50)/((2.*np.pi)**4)"
   ]
  },
  {
   "cell_type": "code",
   "execution_count": 10,
   "metadata": {},
   "outputs": [
    {
     "name": "stderr",
     "output_type": "stream",
     "text": [
      "100%|██████████| 64/64 [00:00<00:00, 299.40it/s]\n"
     ]
    }
   ],
   "source": [
    "nl1x, nl1y = (200, 200)\n",
    "l1max = 3000\n",
    "l1min = 20\n",
    "l1x = np.linspace(-l1max, l1max, nl1x)\n",
    "l1y = np.linspace(-l1max, l1max, nl1y)\n",
    "l1xv, l1yv = np.meshgrid(l1x, l1y, sparse=True)  # make sparse output arrays\n",
    "\n",
    "nL = 64\n",
    "Lmax = 3000\n",
    "Lmin = 30\n",
    "Lv = np.linspace(Lmin, Lmax, nL)\n",
    "\n",
    "pbar = tqdm(total=len(Lv))\n",
    "\n",
    "N0_bias = np.zeros(np.shape(Lv)[0])\n",
    "\n",
    "for iL, LL in enumerate(Lv):\n",
    "    N0_bias[iL] = 1./N0_bias_integral(l1xv, l1yv, [LL], ctt_unlensed, ctt_total_planck, l1min = l1min, l1max = l1max)\n",
    "    pbar.update(1)\n",
    "    \n",
    "pbar.close()"
   ]
  },
  {
   "cell_type": "code",
   "execution_count": 14,
   "metadata": {},
   "outputs": [
    {
     "name": "stderr",
     "output_type": "stream",
     "text": [
      "100%|██████████| 64/64 [02:04<00:00,  1.95s/it]"
     ]
    },
    {
     "name": "stdout",
     "output_type": "stream",
     "text": [
      "CPU times: user 32min 21s, sys: 12.1 s, total: 32min 33s\n",
      "Wall time: 2min 4s\n"
     ]
    },
    {
     "name": "stderr",
     "output_type": "stream",
     "text": [
      "\n"
     ]
    }
   ],
   "source": [
    "%%time\n",
    "\n",
    "nl1x, nl1y = (200, 200)\n",
    "l1max = 5000\n",
    "l1min = 30\n",
    "l1x = np.linspace(-l1max, l1max, nl1x)\n",
    "l1y = np.linspace(-l1max, l1max, nl1y)\n",
    "l1xv, l1yv = np.meshgrid(l1x, l1y, sparse=True)  # make sparse output arrays\n",
    "\n",
    "dL = 50\n",
    "Lmax = 3000\n",
    "Lmin = 30\n",
    "LV = np.arange(Lmin, Lmax, 50)\n",
    "#Lv = np.linspace(Lmin, Lmax, nL)\n",
    "#Lv = np.geomspace(Lmin, Lmax, nL)\n",
    "\n",
    "N0_bias = np.zeros(np.shape(Lv)[0])\n",
    "N1_bias_Hanson = np.zeros(np.shape(Lv)[0])\n",
    "N1_bias_Kesden = np.zeros(np.shape(Lv)[0])\n",
    "\n",
    "pbar = tqdm(total=len(Lv))\n",
    "\n",
    "for iL, LL in enumerate(Lv):\n",
    "    N0_bias[iL] = 1./N0_bias_integral(l1xv, l1yv, [LL], ctt_unlensed, ctt_total_planck, l1min = l1min, l1max = l1max)\n",
    "    #N1_bias_Hanson[iL] = N1_bias_integral_cy_Hanson(L = LL, ClTTunlensed=ctt_unlensed, ClTTtotal=ctt_total_planck, Clphiphi=cphiphi, lmin=l1min, lmax=l1max, dl=50)\n",
    "    N1_bias_Hanson[iL] = N1_bias_integral_cy_Hanson(LL, ctt_unlensed, ctt_total_planck, cphiphi, l1min, l1max, 100)\n",
    "    #pbar.update(1)\n",
    "    #N1_bias_Kesden[iL] = N1_bias_integral_cy_Kesden(L = LL, ClTTunlensed=ctt_unlensed, ClTTtotal=ctt_total_planck, Clphiphi=cphiphi, lmin=l1min, lmax=l1max, dl=50)\n",
    "    #N1_bias_Kesden[iL] = N1_bias_integral_cy_Kesden(LL, ctt_unlensed, ctt_total_planck, cphiphi, l1min, l1max, 100)\n",
    "    pbar.update(1)\n",
    "\n",
    "pbar.close()\n",
    "\n",
    "N1_bias_Hanson *= N0_bias*N0_bias/((2.*np.pi)**4)\n",
    "#N1_bias_Kesden *= N0_bias*N0_bias/((2.*np.pi)**4)\n",
    "    "
   ]
  },
  {
   "cell_type": "code",
   "execution_count": 17,
   "metadata": {},
   "outputs": [
    {
     "data": {
      "text/plain": [
       "array([-5.97203002e-13, -2.36549101e-14, -3.68695738e-15, -8.66860298e-16,\n",
       "       -9.03749460e-16, -1.57633972e-16, -5.16504394e-16, -4.32706385e-17,\n",
       "       -3.84727645e-16, -1.43923910e-17,  4.96063467e-19, -6.67541076e-18,\n",
       "       -1.25714429e-16, -3.85431712e-18, -2.72773879e-17, -2.48631038e-18,\n",
       "       -7.41369697e-18, -1.90120641e-18, -2.65673319e-18, -1.68496209e-18,\n",
       "       -1.08092191e-18, -1.50911441e-18, -4.89256627e-19, -1.57208963e-18,\n",
       "       -2.19665897e-19, -2.01369910e-18, -9.59721646e-20, -4.52944697e-18,\n",
       "       -3.12421570e-20, -6.72436871e-19,  1.54606410e-20,  2.77187950e-19,\n",
       "        5.94283230e-20,  2.95254518e-19,  1.14653635e-19,  2.59586636e-19,\n",
       "        1.87211402e-19,  1.97783587e-19,  3.13692115e-19,  1.54270724e-19,\n",
       "        5.61969382e-19,  1.25344332e-19,  1.03030940e-18,  1.10737425e-19,\n",
       "        3.17035907e-18,  1.02730070e-19,  6.05794186e-18,  1.04752230e-19,\n",
       "        1.25260653e-18,  1.14792345e-19,  6.00636248e-19,  1.38731723e-19,\n",
       "        3.22155506e-19,  1.83488111e-19,  2.01378715e-19,  2.68356097e-19,\n",
       "        1.48964116e-19,  4.01373644e-19,  1.15462121e-19,  7.77163883e-19,\n",
       "        9.89508730e-20,  2.21014237e-18,  9.45836742e-20,  4.37538085e-21])"
      ]
     },
     "execution_count": 17,
     "metadata": {},
     "output_type": "execute_result"
    }
   ],
   "source": [
    "N1_bias_Hanson"
   ]
  },
  {
   "cell_type": "code",
   "execution_count": 26,
   "metadata": {},
   "outputs": [
    {
     "name": "stderr",
     "output_type": "stream",
     "text": [
      "\n",
      "  0%|          | 0/128 [00:00<?, ?it/s]\u001b[A\n",
      "  1%|          | 1/128 [00:36<1:17:02, 36.40s/it]\u001b[A\n",
      "  2%|▏         | 2/128 [01:12<1:16:27, 36.40s/it]\u001b[A\n",
      "  2%|▏         | 3/128 [01:49<1:15:51, 36.41s/it]\u001b[A\n",
      "  3%|▎         | 4/128 [02:25<1:15:14, 36.41s/it]\u001b[A\n",
      "  4%|▍         | 5/128 [03:07<1:18:57, 38.51s/it]\u001b[A\n",
      "  5%|▍         | 6/128 [03:46<1:18:05, 38.40s/it]\u001b[A\n",
      "  5%|▌         | 7/128 [04:24<1:17:26, 38.40s/it]\u001b[A\n",
      "  6%|▋         | 8/128 [05:06<1:19:15, 39.63s/it]\u001b[A\n",
      "  7%|▋         | 9/128 [05:44<1:17:12, 38.93s/it]\u001b[A\n",
      "  8%|▊         | 10/128 [06:31<1:21:30, 41.44s/it]\u001b[A\n",
      "  9%|▊         | 11/128 [07:11<1:20:10, 41.12s/it]\u001b[A\n",
      "  9%|▉         | 12/128 [07:48<1:16:57, 39.81s/it]\u001b[A\n",
      " 10%|█         | 13/128 [08:25<1:14:51, 39.05s/it]\u001b[A\n",
      " 11%|█         | 14/128 [09:08<1:16:08, 40.07s/it]\u001b[A\n",
      " 12%|█▏        | 15/128 [09:45<1:13:56, 39.26s/it]\u001b[A\n",
      " 12%|█▎        | 16/128 [10:24<1:12:55, 39.07s/it]\u001b[A\n",
      " 13%|█▎        | 17/128 [11:07<1:14:27, 40.25s/it]\u001b[A\n",
      " 14%|█▍        | 18/128 [11:43<1:11:35, 39.05s/it]\u001b[A\n",
      " 15%|█▍        | 19/128 [12:19<1:09:28, 38.24s/it]\u001b[A\n",
      " 16%|█▌        | 20/128 [13:00<1:10:09, 38.98s/it]\u001b[A\n",
      " 16%|█▋        | 21/128 [13:40<1:10:13, 39.38s/it]\u001b[A\n",
      " 17%|█▋        | 22/128 [14:18<1:08:30, 38.78s/it]\u001b[A\n",
      " 18%|█▊        | 23/128 [14:55<1:07:09, 38.37s/it]\u001b[A\n",
      " 19%|█▉        | 24/128 [15:37<1:08:34, 39.56s/it]\u001b[A\n",
      " 20%|█▉        | 25/128 [16:18<1:08:21, 39.82s/it]\u001b[A\n",
      " 20%|██        | 26/128 [16:55<1:06:23, 39.05s/it]\u001b[A\n",
      " 21%|██        | 27/128 [17:36<1:06:36, 39.57s/it]\u001b[A\n",
      " 22%|██▏       | 28/128 [18:12<1:04:14, 38.54s/it]\u001b[A\n",
      " 23%|██▎       | 29/128 [19:00<1:08:14, 41.36s/it]\u001b[A\n",
      " 23%|██▎       | 30/128 [19:36<1:05:02, 39.82s/it]\u001b[A\n",
      " 24%|██▍       | 31/128 [20:13<1:02:54, 38.92s/it]\u001b[A\n",
      " 25%|██▌       | 32/128 [20:49<1:00:57, 38.10s/it]\u001b[A\n",
      " 26%|██▌       | 33/128 [21:27<1:00:04, 37.94s/it]\u001b[A\n",
      " 27%|██▋       | 34/128 [22:08<1:01:10, 39.05s/it]\u001b[A\n",
      " 27%|██▋       | 35/128 [22:46<59:42, 38.52s/it]  \u001b[A\n",
      " 28%|██▊       | 36/128 [23:23<58:19, 38.04s/it]\u001b[A\n",
      " 29%|██▉       | 37/128 [24:10<1:01:49, 40.77s/it]\u001b[A\n",
      " 30%|██▉       | 38/128 [24:46<59:09, 39.43s/it]  \u001b[A\n",
      " 30%|███       | 39/128 [25:25<58:17, 39.29s/it]\u001b[A\n",
      " 31%|███▏      | 40/128 [26:01<56:17, 38.38s/it]\u001b[A\n",
      " 32%|███▏      | 41/128 [26:41<56:12, 38.76s/it]\u001b[A\n",
      " 33%|███▎      | 42/128 [27:22<56:46, 39.61s/it]\u001b[A\n",
      " 34%|███▎      | 43/128 [28:02<55:54, 39.47s/it]\u001b[A\n",
      " 34%|███▍      | 44/128 [28:38<54:10, 38.70s/it]\u001b[A\n",
      " 35%|███▌      | 45/128 [29:17<53:36, 38.76s/it]\u001b[A\n",
      " 36%|███▌      | 46/128 [29:55<52:18, 38.28s/it]\u001b[A\n",
      " 37%|███▋      | 47/128 [30:33<51:39, 38.26s/it]\u001b[A\n",
      " 38%|███▊      | 48/128 [31:13<51:38, 38.74s/it]\u001b[A\n",
      " 38%|███▊      | 49/128 [31:51<51:02, 38.77s/it]\u001b[A\n",
      " 39%|███▉      | 50/128 [32:35<52:08, 40.11s/it]\u001b[A\n",
      " 40%|███▉      | 51/128 [33:16<51:50, 40.39s/it]\u001b[A\n",
      " 41%|████      | 52/128 [34:01<53:07, 41.94s/it]\u001b[A\n",
      " 41%|████▏     | 53/128 [34:42<51:57, 41.56s/it]\u001b[A\n",
      " 42%|████▏     | 54/128 [35:23<50:58, 41.33s/it]\u001b[A\n",
      " 43%|████▎     | 55/128 [36:02<49:23, 40.59s/it]\u001b[A\n",
      " 44%|████▍     | 56/128 [36:41<48:22, 40.31s/it]\u001b[A\n",
      " 45%|████▍     | 57/128 [37:21<47:24, 40.07s/it]\u001b[A\n",
      " 45%|████▌     | 58/128 [38:04<47:48, 40.99s/it]\u001b[A\n",
      " 46%|████▌     | 59/128 [38:42<46:14, 40.21s/it]\u001b[A\n",
      " 47%|████▋     | 60/128 [39:21<45:05, 39.78s/it]\u001b[A\n",
      " 48%|████▊     | 61/128 [40:04<45:37, 40.86s/it]\u001b[A\n",
      " 48%|████▊     | 62/128 [40:43<44:14, 40.21s/it]\u001b[A\n",
      " 49%|████▉     | 63/128 [41:22<43:00, 39.70s/it]\u001b[A\n",
      " 50%|█████     | 64/128 [42:04<43:20, 40.63s/it]\u001b[A\n",
      " 51%|█████     | 65/128 [42:44<42:10, 40.17s/it]\u001b[A\n",
      " 52%|█████▏    | 66/128 [43:22<41:00, 39.68s/it]\u001b[A\n",
      " 52%|█████▏    | 67/128 [44:04<41:04, 40.40s/it]\u001b[A\n",
      " 53%|█████▎    | 68/128 [44:42<39:31, 39.53s/it]\u001b[A\n",
      " 54%|█████▍    | 69/128 [45:20<38:32, 39.20s/it]\u001b[A\n",
      " 55%|█████▍    | 70/128 [46:03<39:04, 40.43s/it]\u001b[A\n",
      " 55%|█████▌    | 71/128 [46:50<40:05, 42.20s/it]\u001b[A\n",
      " 56%|█████▋    | 72/128 [47:33<39:46, 42.61s/it]\u001b[A\n",
      " 57%|█████▋    | 73/128 [48:13<38:15, 41.73s/it]\u001b[A\n",
      " 58%|█████▊    | 74/128 [48:56<37:50, 42.04s/it]\u001b[A\n",
      " 59%|█████▊    | 75/128 [49:32<35:36, 40.32s/it]\u001b[A\n",
      " 59%|█████▉    | 76/128 [50:11<34:36, 39.93s/it]\u001b[A\n",
      " 60%|██████    | 77/128 [50:50<33:45, 39.71s/it]\u001b[A\n",
      " 61%|██████    | 78/128 [51:26<32:04, 38.49s/it]\u001b[A\n",
      " 62%|██████▏   | 79/128 [52:13<33:27, 40.97s/it]\u001b[A\n",
      " 62%|██████▎   | 80/128 [52:48<31:29, 39.37s/it]\u001b[A\n",
      " 63%|██████▎   | 81/128 [53:35<32:36, 41.63s/it]\u001b[A\n",
      " 64%|██████▍   | 82/128 [54:11<30:31, 39.82s/it]\u001b[A\n",
      " 65%|██████▍   | 83/128 [54:47<29:07, 38.84s/it]\u001b[A\n",
      " 66%|██████▌   | 84/128 [55:29<29:06, 39.69s/it]\u001b[A\n",
      " 66%|██████▋   | 85/128 [56:07<28:00, 39.07s/it]\u001b[A\n",
      " 67%|██████▋   | 86/128 [56:45<27:10, 38.82s/it]\u001b[A\n",
      " 68%|██████▊   | 87/128 [57:23<26:26, 38.70s/it]\u001b[A\n",
      " 69%|██████▉   | 88/128 [58:06<26:34, 39.86s/it]\u001b[A\n",
      " 70%|██████▉   | 89/128 [58:51<26:52, 41.34s/it]\u001b[A\n",
      " 70%|███████   | 90/128 [59:29<25:33, 40.34s/it]\u001b[A\n",
      " 71%|███████   | 91/128 [1:00:09<24:51, 40.32s/it]\u001b[A\n",
      " 72%|███████▏  | 92/128 [1:00:46<23:37, 39.37s/it]\u001b[A\n",
      " 73%|███████▎  | 93/128 [1:01:26<23:06, 39.62s/it]\u001b[A\n",
      " 73%|███████▎  | 94/128 [1:02:06<22:30, 39.72s/it]\u001b[A\n",
      " 74%|███████▍  | 95/128 [1:02:44<21:31, 39.13s/it]\u001b[A\n",
      " 75%|███████▌  | 96/128 [1:03:21<20:34, 38.59s/it]\u001b[A\n",
      " 76%|███████▌  | 97/128 [1:04:04<20:29, 39.65s/it]\u001b[A\n",
      " 77%|███████▋  | 98/128 [1:04:42<19:37, 39.24s/it]\u001b[A\n",
      " 77%|███████▋  | 99/128 [1:05:18<18:31, 38.31s/it]\u001b[A\n",
      " 78%|███████▊  | 100/128 [1:06:04<19:01, 40.78s/it]\u001b[A\n",
      " 79%|███████▉  | 101/128 [1:06:42<17:56, 39.89s/it]\u001b[A\n",
      " 80%|███████▉  | 102/128 [1:07:20<17:00, 39.24s/it]\u001b[A\n",
      " 80%|████████  | 103/128 [1:07:56<15:53, 38.14s/it]\u001b[A\n",
      " 81%|████████▏ | 104/128 [1:08:36<15:32, 38.85s/it]\u001b[A\n",
      " 82%|████████▏ | 105/128 [1:09:13<14:43, 38.40s/it]\u001b[A\n",
      " 83%|████████▎ | 106/128 [1:09:49<13:44, 37.46s/it]\u001b[A\n",
      " 84%|████████▎ | 107/128 [1:10:33<13:51, 39.58s/it]\u001b[A\n",
      " 84%|████████▍ | 108/128 [1:11:14<13:16, 39.83s/it]\u001b[A\n",
      " 85%|████████▌ | 109/128 [1:11:57<12:59, 41.01s/it]\u001b[A\n",
      " 86%|████████▌ | 110/128 [1:12:38<12:15, 40.86s/it]\u001b[A\n",
      " 87%|████████▋ | 111/128 [1:13:17<11:23, 40.19s/it]\u001b[A\n",
      " 88%|████████▊ | 112/128 [1:13:52<10:18, 38.68s/it]\u001b[A\n",
      " 88%|████████▊ | 113/128 [1:14:30<09:37, 38.48s/it]\u001b[A\n",
      " 89%|████████▉ | 114/128 [1:15:10<09:07, 39.08s/it]\u001b[A\n",
      " 90%|████████▉ | 115/128 [1:15:57<08:58, 41.39s/it]\u001b[A\n",
      " 91%|█████████ | 116/128 [1:16:37<08:12, 41.06s/it]\u001b[A\n",
      " 91%|█████████▏| 117/128 [1:17:18<07:31, 41.05s/it]\u001b[A\n",
      " 92%|█████████▏| 118/128 [1:17:54<06:33, 39.32s/it]\u001b[A\n",
      " 93%|█████████▎| 119/128 [1:18:40<06:12, 41.43s/it]\u001b[A\n",
      " 94%|█████████▍| 120/128 [1:19:23<05:35, 41.90s/it]\u001b[A\n",
      " 95%|█████████▍| 121/128 [1:20:09<05:03, 43.30s/it]\u001b[A\n",
      " 95%|█████████▌| 122/128 [1:20:45<04:04, 40.82s/it]\u001b[A\n",
      " 96%|█████████▌| 123/128 [1:21:24<03:22, 40.43s/it]\u001b[A\n",
      " 97%|█████████▋| 124/128 [1:21:59<02:35, 38.82s/it]\u001b[A\n",
      " 98%|█████████▊| 125/128 [1:22:46<02:03, 41.30s/it]\u001b[A\n",
      " 98%|█████████▊| 126/128 [1:23:21<01:18, 39.40s/it]\u001b[A\n",
      " 99%|█████████▉| 127/128 [1:24:03<00:40, 40.24s/it]\u001b[A\n",
      "100%|██████████| 128/128 [1:24:38<00:00, 39.68s/it]\u001b[A"
     ]
    },
    {
     "name": "stdout",
     "output_type": "stream",
     "text": [
      "CPU times: user 1d 15h 9min 47s, sys: 1min 17s, total: 1d 15h 11min 5s\n",
      "Wall time: 1h 24min 38s\n"
     ]
    },
    {
     "name": "stderr",
     "output_type": "stream",
     "text": [
      "\n"
     ]
    }
   ],
   "source": [
    "%%time\n",
    "\n",
    "nl1x, nl1y = (200, 200)\n",
    "l1max = 10000\n",
    "l1min = 30\n",
    "l1x = np.linspace(-l1max, l1max, nl1x)\n",
    "l1y = np.linspace(-l1max, l1max, nl1y)\n",
    "l1xv, l1yv = np.meshgrid(l1x, l1y, sparse=True)  # make sparse output arrays\n",
    "\n",
    "nL = 128\n",
    "Lmax = 10000\n",
    "Lmin = 30\n",
    "Lv = np.linspace(Lmin, Lmax, nL)\n",
    "#Lv = np.geomspace(Lmin, Lmax, nL)\n",
    "\n",
    "N0_bias_CMBS4 = np.zeros(np.shape(Lv)[0])\n",
    "N1_bias_Kesden_CMBS4 = np.zeros(np.shape(Lv)[0])\n",
    "\n",
    "pbar = tqdm(total=len(Lv))\n",
    "\n",
    "for iL, LL in enumerate(Lv):\n",
    "    N0_bias_CMBS4[iL] = 1./N0_bias_integral(l1xv, l1yv, [LL], ctt_unlensed, ctt_total_CMBS4, l1min = l1min, l1max = l1max)\n",
    "    N1_bias_Kesden_CMBS4[iL] = N1_bias_integral_cy_Kesden(L = LL, ClTTunlensed=ctt_unlensed, ClTTtotal=ctt_total_CMBS4, Clphiphi=cphiphi, lmin=l1min, lmax=l1max, dl=80)\n",
    "    pbar.update(1)\n",
    "\n",
    "pbar.close()\n",
    "\n",
    "N1_bias_Kesden_CMBS4 *= N0_bias_CMBS4*N0_bias_CMBS4/((2.*np.pi)**4)\n",
    "    "
   ]
  },
  {
   "cell_type": "code",
   "execution_count": 15,
   "metadata": {},
   "outputs": [],
   "source": [
    "plt.rc('text', usetex=True)\n",
    "plt.rc('font', family='serif')"
   ]
  },
  {
   "cell_type": "code",
   "execution_count": 16,
   "metadata": {},
   "outputs": [
    {
     "data": {
      "image/png": "[encoded data removed]",
      "text/plain": [
       "<Figure size 432x288 with 1 Axes>"
      ]
     },
     "metadata": {
      "needs_background": "light"
     },
     "output_type": "display_data"
    }
   ],
   "source": [
    "nL = 64\n",
    "Lmax = 3000\n",
    "Lmin = 30\n",
    "Lv_planck = np.linspace(Lmin, Lmax, nL)\n",
    "#Lv = np.geomspace(Lmin, Lmax, nL)\n",
    "\n",
    "plt.semilogy(Lv_planck,Lv_planck**4*cphiphi[np.rint(Lv_planck).astype(int)]/(2.*np.pi), label = '$C_L^{dd}$')\n",
    "plt.semilogy(Lv_planck,Lv_planck**4*N0_bias/(2.*np.pi), label = '$N_L^{(0)}$')\n",
    "plt.semilogy(Lv_planck,2*Lv_planck**4*N1_bias_Kesden/(2.*np.pi), label = '$N_L^{(1)}$')\n",
    "plt.text(2500,3e-7, 'Planck', fontsize = 14)\n",
    "#plt.semilogy(Lv,Lv**4*N1_bias_Hanson/(2.*np.pi))\n",
    "# plt.semilogy(Lv,-Lv**4*N1_bias_cy_Kesden/(2.*np.pi))\n",
    "# plt.semilogy(Lv,-Lv**4*N1_bias_cy_Hanson/(2.*np.pi))\n",
    "plt.ylabel('$D^{dd}_L$')\n",
    "plt.xlabel('$L$')\n",
    "plt.xlim(0,3000)\n",
    "plt.legend(loc = 'upper right')\n",
    "#plt.savefig('N1_bias_Planck.pdf', bbox_inches = 'tight')\n",
    "#plt.savefig('N1_bias_Planck.png', bbox_inches = 'tight')\n",
    "plt.show()\n"
   ]
  },
  {
   "cell_type": "code",
   "execution_count": 47,
   "metadata": {},
   "outputs": [
    {
     "data": {
      "image/png": "[encoded data removed]",
      "text/plain": [
       "<Figure size 432x288 with 1 Axes>"
      ]
     },
     "metadata": {
      "needs_background": "light"
     },
     "output_type": "display_data"
    }
   ],
   "source": [
    "nL = 64\n",
    "Lmax = 3000\n",
    "Lmin = 30\n",
    "Lv_planck = np.linspace(Lmin, Lmax, nL)\n",
    "#Lv = np.geomspace(Lmin, Lmax, nL)\n",
    "\n",
    "plt.semilogy(Lv_planck,Lv_planck**4*cphiphi[np.rint(Lv_planck).astype(int)]/(2.*np.pi), label = '$C_L^{dd}$')\n",
    "plt.semilogy(Lv_planck,Lv_planck**4*N0_bias/(2.*np.pi), label = '$N_L^{(0)}$')\n",
    "plt.semilogy(Lv_planck,Lv_planck**4*N1_bias_Kesden/(2.*np.pi), label = '$N_L^{(1)}$')\n",
    "plt.text(2500,3e-7, 'Planck', fontsize = 14)\n",
    "#plt.semilogy(Lv,Lv**4*N1_bias_Hanson/(2.*np.pi))\n",
    "# plt.semilogy(Lv,-Lv**4*N1_bias_cy_Kesden/(2.*np.pi))\n",
    "# plt.semilogy(Lv,-Lv**4*N1_bias_cy_Hanson/(2.*np.pi))\n",
    "plt.ylabel('$D^{dd}_L$')\n",
    "plt.xlabel('$L$')\n",
    "plt.xlim(0,3000)\n",
    "plt.legend(loc = 'upper right')\n",
    "plt.savefig('N1_bias_Planck.pdf', bbox_inches = 'tight')\n",
    "plt.savefig('N1_bias_Planck.png', bbox_inches = 'tight')\n",
    "plt.show()\n"
   ]
  },
  {
   "cell_type": "code",
   "execution_count": 49,
   "metadata": {},
   "outputs": [
    {
     "data": {
      "image/png": "[encoded data removed]",
      "text/plain": [
       "<Figure size 432x288 with 1 Axes>"
      ]
     },
     "metadata": {
      "needs_background": "light"
     },
     "output_type": "display_data"
    }
   ],
   "source": [
    "plt.semilogy(Lv,Lv**4*cphiphi[np.rint(Lv).astype(int)]/(2.*np.pi), label = '$C_L^{dd}$')\n",
    "plt.semilogy(Lv,Lv**4*N0_bias_CMBS4/(2.*np.pi), label = '$N_L^{(0)}$')\n",
    "plt.semilogy(Lv,Lv**4*N1_bias_Kesden_CMBS4/(2.*np.pi), label = '$N_L^{(1)}$')\n",
    "plt.text(8200,9e-9, 'CMB-S4', fontsize =14)\n",
    "#plt.semilogy(Lv,Lv**4*N1_bias_Hanson/(2.*np.pi))\n",
    "# plt.semilogy(Lv,-Lv**4*N1_bias_cy_Kesden/(2.*np.pi))\n",
    "# plt.semilogy(Lv,-Lv**4*N1_bias_cy_Hanson/(2.*np.pi))\n",
    "plt.ylabel('$D^{dd}_L$')\n",
    "plt.xlabel('$L$')\n",
    "plt.xlim(0,10000)\n",
    "plt.legend()\n",
    "plt.savefig('N1_bias_CMBS4.pdf', bbox_inches = 'tight')\n",
    "plt.savefig('N1_bias_CMBS4.png', bbox_inches = 'tight')\n",
    "plt.show()"
   ]
  },
  {
   "cell_type": "code",
   "execution_count": 24,
   "metadata": {},
   "outputs": [
    {
     "name": "stderr",
     "output_type": "stream",
     "text": [
      "\n",
      "  0%|          | 0/64 [00:00<?, ?it/s]\u001b[A"
     ]
    },
    {
     "ename": "KeyboardInterrupt",
     "evalue": "",
     "output_type": "error",
     "traceback": [
      "\u001b[0;31m---------------------------------------------------------------------------\u001b[0m",
      "\u001b[0;31mKeyboardInterrupt\u001b[0m                         Traceback (most recent call last)",
      "\u001b[0;32m<timed exec>\u001b[0m in \u001b[0;36m<module>\u001b[0;34m\u001b[0m\n",
      "\u001b[0;32m~/.conda/envs/idp_cobaya/lib/python3.7/multiprocessing/pool.py\u001b[0m in \u001b[0;36mmap\u001b[0;34m(self, func, iterable, chunksize)\u001b[0m\n\u001b[1;32m    266\u001b[0m         \u001b[0;32min\u001b[0m \u001b[0ma\u001b[0m \u001b[0mlist\u001b[0m \u001b[0mthat\u001b[0m \u001b[0;32mis\u001b[0m \u001b[0mreturned\u001b[0m\u001b[0;34m.\u001b[0m\u001b[0;34m\u001b[0m\u001b[0;34m\u001b[0m\u001b[0m\n\u001b[1;32m    267\u001b[0m         '''\n\u001b[0;32m--> 268\u001b[0;31m         \u001b[0;32mreturn\u001b[0m \u001b[0mself\u001b[0m\u001b[0;34m.\u001b[0m\u001b[0m_map_async\u001b[0m\u001b[0;34m(\u001b[0m\u001b[0mfunc\u001b[0m\u001b[0;34m,\u001b[0m \u001b[0miterable\u001b[0m\u001b[0;34m,\u001b[0m \u001b[0mmapstar\u001b[0m\u001b[0;34m,\u001b[0m \u001b[0mchunksize\u001b[0m\u001b[0;34m)\u001b[0m\u001b[0;34m.\u001b[0m\u001b[0mget\u001b[0m\u001b[0;34m(\u001b[0m\u001b[0;34m)\u001b[0m\u001b[0;34m\u001b[0m\u001b[0;34m\u001b[0m\u001b[0m\n\u001b[0m\u001b[1;32m    269\u001b[0m \u001b[0;34m\u001b[0m\u001b[0m\n\u001b[1;32m    270\u001b[0m     \u001b[0;32mdef\u001b[0m \u001b[0mstarmap\u001b[0m\u001b[0;34m(\u001b[0m\u001b[0mself\u001b[0m\u001b[0;34m,\u001b[0m \u001b[0mfunc\u001b[0m\u001b[0;34m,\u001b[0m \u001b[0miterable\u001b[0m\u001b[0;34m,\u001b[0m \u001b[0mchunksize\u001b[0m\u001b[0;34m=\u001b[0m\u001b[0;32mNone\u001b[0m\u001b[0;34m)\u001b[0m\u001b[0;34m:\u001b[0m\u001b[0;34m\u001b[0m\u001b[0;34m\u001b[0m\u001b[0m\n",
      "\u001b[0;32m~/.conda/envs/idp_cobaya/lib/python3.7/multiprocessing/pool.py\u001b[0m in \u001b[0;36mget\u001b[0;34m(self, timeout)\u001b[0m\n\u001b[1;32m    649\u001b[0m \u001b[0;34m\u001b[0m\u001b[0m\n\u001b[1;32m    650\u001b[0m     \u001b[0;32mdef\u001b[0m \u001b[0mget\u001b[0m\u001b[0;34m(\u001b[0m\u001b[0mself\u001b[0m\u001b[0;34m,\u001b[0m \u001b[0mtimeout\u001b[0m\u001b[0;34m=\u001b[0m\u001b[0;32mNone\u001b[0m\u001b[0;34m)\u001b[0m\u001b[0;34m:\u001b[0m\u001b[0;34m\u001b[0m\u001b[0;34m\u001b[0m\u001b[0m\n\u001b[0;32m--> 651\u001b[0;31m         \u001b[0mself\u001b[0m\u001b[0;34m.\u001b[0m\u001b[0mwait\u001b[0m\u001b[0;34m(\u001b[0m\u001b[0mtimeout\u001b[0m\u001b[0;34m)\u001b[0m\u001b[0;34m\u001b[0m\u001b[0;34m\u001b[0m\u001b[0m\n\u001b[0m\u001b[1;32m    652\u001b[0m         \u001b[0;32mif\u001b[0m \u001b[0;32mnot\u001b[0m \u001b[0mself\u001b[0m\u001b[0;34m.\u001b[0m\u001b[0mready\u001b[0m\u001b[0;34m(\u001b[0m\u001b[0;34m)\u001b[0m\u001b[0;34m:\u001b[0m\u001b[0;34m\u001b[0m\u001b[0;34m\u001b[0m\u001b[0m\n\u001b[1;32m    653\u001b[0m             \u001b[0;32mraise\u001b[0m \u001b[0mTimeoutError\u001b[0m\u001b[0;34m\u001b[0m\u001b[0;34m\u001b[0m\u001b[0m\n",
      "\u001b[0;32m~/.conda/envs/idp_cobaya/lib/python3.7/multiprocessing/pool.py\u001b[0m in \u001b[0;36mwait\u001b[0;34m(self, timeout)\u001b[0m\n\u001b[1;32m    646\u001b[0m \u001b[0;34m\u001b[0m\u001b[0m\n\u001b[1;32m    647\u001b[0m     \u001b[0;32mdef\u001b[0m \u001b[0mwait\u001b[0m\u001b[0;34m(\u001b[0m\u001b[0mself\u001b[0m\u001b[0;34m,\u001b[0m \u001b[0mtimeout\u001b[0m\u001b[0;34m=\u001b[0m\u001b[0;32mNone\u001b[0m\u001b[0;34m)\u001b[0m\u001b[0;34m:\u001b[0m\u001b[0;34m\u001b[0m\u001b[0;34m\u001b[0m\u001b[0m\n\u001b[0;32m--> 648\u001b[0;31m         \u001b[0mself\u001b[0m\u001b[0;34m.\u001b[0m\u001b[0m_event\u001b[0m\u001b[0;34m.\u001b[0m\u001b[0mwait\u001b[0m\u001b[0;34m(\u001b[0m\u001b[0mtimeout\u001b[0m\u001b[0;34m)\u001b[0m\u001b[0;34m\u001b[0m\u001b[0;34m\u001b[0m\u001b[0m\n\u001b[0m\u001b[1;32m    649\u001b[0m \u001b[0;34m\u001b[0m\u001b[0m\n\u001b[1;32m    650\u001b[0m     \u001b[0;32mdef\u001b[0m \u001b[0mget\u001b[0m\u001b[0;34m(\u001b[0m\u001b[0mself\u001b[0m\u001b[0;34m,\u001b[0m \u001b[0mtimeout\u001b[0m\u001b[0;34m=\u001b[0m\u001b[0;32mNone\u001b[0m\u001b[0;34m)\u001b[0m\u001b[0;34m:\u001b[0m\u001b[0;34m\u001b[0m\u001b[0;34m\u001b[0m\u001b[0m\n",
      "\u001b[0;32m~/.conda/envs/idp_cobaya/lib/python3.7/threading.py\u001b[0m in \u001b[0;36mwait\u001b[0;34m(self, timeout)\u001b[0m\n\u001b[1;32m    550\u001b[0m             \u001b[0msignaled\u001b[0m \u001b[0;34m=\u001b[0m \u001b[0mself\u001b[0m\u001b[0;34m.\u001b[0m\u001b[0m_flag\u001b[0m\u001b[0;34m\u001b[0m\u001b[0;34m\u001b[0m\u001b[0m\n\u001b[1;32m    551\u001b[0m             \u001b[0;32mif\u001b[0m \u001b[0;32mnot\u001b[0m \u001b[0msignaled\u001b[0m\u001b[0;34m:\u001b[0m\u001b[0;34m\u001b[0m\u001b[0;34m\u001b[0m\u001b[0m\n\u001b[0;32m--> 552\u001b[0;31m                 \u001b[0msignaled\u001b[0m \u001b[0;34m=\u001b[0m \u001b[0mself\u001b[0m\u001b[0;34m.\u001b[0m\u001b[0m_cond\u001b[0m\u001b[0;34m.\u001b[0m\u001b[0mwait\u001b[0m\u001b[0;34m(\u001b[0m\u001b[0mtimeout\u001b[0m\u001b[0;34m)\u001b[0m\u001b[0;34m\u001b[0m\u001b[0;34m\u001b[0m\u001b[0m\n\u001b[0m\u001b[1;32m    553\u001b[0m             \u001b[0;32mreturn\u001b[0m \u001b[0msignaled\u001b[0m\u001b[0;34m\u001b[0m\u001b[0;34m\u001b[0m\u001b[0m\n\u001b[1;32m    554\u001b[0m \u001b[0;34m\u001b[0m\u001b[0m\n",
      "\u001b[0;32m~/.conda/envs/idp_cobaya/lib/python3.7/threading.py\u001b[0m in \u001b[0;36mwait\u001b[0;34m(self, timeout)\u001b[0m\n\u001b[1;32m    294\u001b[0m         \u001b[0;32mtry\u001b[0m\u001b[0;34m:\u001b[0m    \u001b[0;31m# restore state no matter what (e.g., KeyboardInterrupt)\u001b[0m\u001b[0;34m\u001b[0m\u001b[0;34m\u001b[0m\u001b[0m\n\u001b[1;32m    295\u001b[0m             \u001b[0;32mif\u001b[0m \u001b[0mtimeout\u001b[0m \u001b[0;32mis\u001b[0m \u001b[0;32mNone\u001b[0m\u001b[0;34m:\u001b[0m\u001b[0;34m\u001b[0m\u001b[0;34m\u001b[0m\u001b[0m\n\u001b[0;32m--> 296\u001b[0;31m                 \u001b[0mwaiter\u001b[0m\u001b[0;34m.\u001b[0m\u001b[0macquire\u001b[0m\u001b[0;34m(\u001b[0m\u001b[0;34m)\u001b[0m\u001b[0;34m\u001b[0m\u001b[0;34m\u001b[0m\u001b[0m\n\u001b[0m\u001b[1;32m    297\u001b[0m                 \u001b[0mgotit\u001b[0m \u001b[0;34m=\u001b[0m \u001b[0;32mTrue\u001b[0m\u001b[0;34m\u001b[0m\u001b[0;34m\u001b[0m\u001b[0m\n\u001b[1;32m    298\u001b[0m             \u001b[0;32melse\u001b[0m\u001b[0;34m:\u001b[0m\u001b[0;34m\u001b[0m\u001b[0;34m\u001b[0m\u001b[0m\n",
      "\u001b[0;31mKeyboardInterrupt\u001b[0m: "
     ]
    }
   ],
   "source": [
    "%%time\n",
    "\n",
    "nl1x, nl1y = (200, 200)\n",
    "l1max = 5000\n",
    "l1min = 30\n",
    "l1x = np.linspace(-l1max, l1max, nl1x)\n",
    "l1y = np.linspace(-l1max, l1max, nl1y)\n",
    "l1xv, l1yv = np.meshgrid(l1x, l1y, sparse=True)  # make sparse output arrays\n",
    "\n",
    "nL = 64\n",
    "Lmax = 3000\n",
    "Lmin = 30\n",
    "Lv = np.linspace(Lmin, Lmax, nL)\n",
    "\n",
    "N0_bias = np.zeros(np.shape(Lv)[0])\n",
    "\n",
    "for iL, LL in enumerate(Lv):\n",
    "    N0_bias[iL] = 1./N0_bias_integral(l1xv, l1yv, [LL], ctt_unlensed, ctt_total, l1min = l1min, l1max = l1max)\n",
    "\n",
    "N1_bias_Hanson = np.zeros(np.shape(Lv)[0])\n",
    "\n",
    "if __name__=='__main__':\n",
    "    pool = Pool(processes=16)\n",
    "    N1_bias_Hanson = pool.map(partial(N1_bias_integral_cy_Hanson, ClTTunlensed=ctt_unlensed, ClTTtotal=ctt_total, Clphiphi=cphiphi, lmin=l1min, lmax=l1max, dl=50), Lv)\n",
    "    pool.close() # ATTENTION HERE\n",
    "\n",
    "N1_bias_Hanson *= N0_bias*N0_bias/((2.*np.pi)**4)\n",
    "    "
   ]
  },
  {
   "cell_type": "code",
   "execution_count": 66,
   "metadata": {},
   "outputs": [
    {
     "data": {
      "text/plain": [
       "array([-9.80379959e-16, -3.40589087e-17, -3.18372531e-17, -2.08676146e-17,\n",
       "       -3.81496589e-18, -2.40050690e-18, -1.09231410e-17, -2.75792296e-18,\n",
       "       -8.44770565e-19, -1.03380107e-18, -5.28906820e-18, -6.74982456e-19,\n",
       "       -4.14206550e-19, -4.90439355e-19, -1.36253673e-19, -2.93854882e-19,\n",
       "       -1.76063068e-19, -2.05191716e-19, -9.69302668e-19, -1.29463313e-19,\n",
       "       -7.14100003e-20, -1.52988295e-19, -2.84205520e-19, -4.87005903e-20,\n",
       "       -4.72683799e-20, -1.08678327e-19, -7.47663067e-20, -3.15548021e-20,\n",
       "       -2.99576845e-20, -6.39799586e-20, -5.37209633e-20, -2.34015481e-20,\n",
       "       -1.75125259e-20, -9.62692782e-20, -3.49650340e-20, -2.28395307e-20,\n",
       "       -3.22109631e-20, -1.15815837e-19, -3.03236553e-20, -1.87125916e-20])"
      ]
     },
     "execution_count": 66,
     "metadata": {},
     "output_type": "execute_result"
    }
   ],
   "source": [
    "N1_bias"
   ]
  },
  {
   "cell_type": "code",
   "execution_count": null,
   "metadata": {},
   "outputs": [],
   "source": [
    "%%time\n",
    "\n",
    "nl1x, nl1y = (100, 100)\n",
    "l1max = 3000\n",
    "l1min = 30\n",
    "l1x = np.linspace(-l1max, l1max, nl1x)\n",
    "l1y = np.linspace(-l1max, l1max, nl1y)\n",
    "l1xv, l1yv = np.meshgrid(l1x, l1y, sparse=True)  # make sparse output arrays\n",
    "\n",
    "nL = 20\n",
    "Lmax = 3000\n",
    "Lmin = 30\n",
    "Lv = np.linspace(Lmin, Lmax, nL)\n",
    "\n",
    "N0_bias = np.zeros(np.shape(Lv)[0])\n",
    "N1_bias_Kesden = np.zeros(np.shape(Lv)[0])\n",
    "N1_bias_Hanson = np.zeros(np.shape(Lv)[0])\n",
    "N1_bias_cy_Kesden = np.zeros(np.shape(Lv)[0])\n",
    "N1_bias_cy_Hanson = np.zeros(np.shape(Lv)[0])\n",
    "\n",
    "for iL, LL in enumerate(Lv):\n",
    "    N0_bias[iL] = 1./N0_bias_integral(l1xv, l1yv, [LL], ctt_unlensed, ctt_total, l1min = l1min, l1max = l1max)\n",
    "#     N1_bias_Kesden[iL] = N0_bias[iL]*N0_bias[iL] \\\n",
    "#             *N1_bias_integral_Kesden(l1xv, l1yv, [LL], l1xv, l1yv, ctt_unlensed, ctt_total, Clphiphi = cphiphi, l1min = l1min, l1max = l1max, l2min = l1min, l2max = l1max)\n",
    "#     N1_bias_Hanson[iL] = N0_bias[iL]*N0_bias[iL] \\\n",
    "#             *N1_bias_integral_Hanson(l1xv, l1yv, [LL], l1xv, l1yv, ctt_unlensed, ctt_total, Clphiphi = cphiphi, l1min = l1min, l1max = l1max, l2min = l1min, l2max = l1max)\n",
    "#     N1_bias_cy_Kesden[iL] = N0_bias[iL]*N0_bias[iL] \\\n",
    "#             *N1_bias_integral_cy_Kesden(LL, ctt_unlensed, ctt_total, cphiphi, l1min, l1max, 50)/((2.*np.pi)**4)\n",
    "#     N1_bias_cy_Hanson[iL] = N0_bias[iL]*N0_bias[iL] \\\n",
    "#             *N1_bias_integral_cy_Hanson(LL, ctt_unlensed, ctt_total, cphiphi, l1min, l1max, 50)/((2.*np.pi)**4)"
   ]
  },
  {
   "cell_type": "code",
   "execution_count": null,
   "metadata": {},
   "outputs": [],
   "source": [
    "plt.semilogy(Lv,Lv**4*cphiphi[np.rint(Lv).astype(int)]/(2.*np.pi))\n",
    "plt.semilogy(Lv,Lv**4*N0_bias/(2.*np.pi))\n",
    "plt.semilogy(Lv,-Lv**4*N1_bias_Kesden/(2.*np.pi))\n",
    "plt.semilogy(Lv,-Lv**4*N1_bias_Hanson/(2.*np.pi))\n",
    "plt.semilogy(Lv,-Lv**4*N1_bias_cy_Kesden/(2.*np.pi))\n",
    "plt.semilogy(Lv,-Lv**4*N1_bias_cy_Hanson/(2.*np.pi))\n",
    "plt.ylabel('C^{dd}_L')\n",
    "plt.xlabel('L')\n",
    "plt.show()"
   ]
  }
 ],
 "metadata": {
  "kernelspec": {
   "display_name": "idp_cobaya",
   "language": "python",
   "name": "idp_cobaya"
  },
  "language_info": {
   "codemirror_mode": {
    "name": "ipython",
    "version": 3
   },
   "file_extension": ".py",
   "mimetype": "text/x-python",
   "name": "python",
   "nbconvert_exporter": "python",
   "pygments_lexer": "ipython3",
   "version": "3.7.11"
  }
 },
 "nbformat": 4,
 "nbformat_minor": 5
}
